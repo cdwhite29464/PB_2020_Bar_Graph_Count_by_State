{
 "cells": [
  {
   "cell_type": "code",
   "execution_count": 2,
   "metadata": {},
   "outputs": [],
   "source": [
    "import numpy as np\n",
    "import pandas as pd\n",
    "pd.set_option('display.max_rows', 500)"
   ]
  },
  {
   "cell_type": "code",
   "execution_count": 3,
   "metadata": {},
   "outputs": [],
   "source": [
    "import seaborn as sns\n",
    "import matplotlib.pyplot as plt\n",
    "%matplotlib inline"
   ]
  },
  {
   "cell_type": "code",
   "execution_count": 4,
   "metadata": {},
   "outputs": [
    {
     "data": {
      "text/html": [
       "        <script type=\"text/javascript\">\n",
       "        window.PlotlyConfig = {MathJaxConfig: 'local'};\n",
       "        if (window.MathJax) {MathJax.Hub.Config({SVG: {font: \"STIX-Web\"}});}\n",
       "        if (typeof require !== 'undefined') {\n",
       "        require.undef(\"plotly\");\n",
       "        requirejs.config({\n",
       "            paths: {\n",
       "                'plotly': ['https://cdn.plot.ly/plotly-latest.min']\n",
       "            }\n",
       "        });\n",
       "        require(['plotly'], function(Plotly) {\n",
       "            window._Plotly = Plotly;\n",
       "        });\n",
       "        }\n",
       "        </script>\n",
       "        "
      ]
     },
     "metadata": {},
     "output_type": "display_data"
    }
   ],
   "source": [
    "import chart_studio.plotly as py\n",
    "import plotly.graph_objs as go\n",
    "import plotly.express as px\n",
    "from plotly.offline import download_plotlyjs,init_notebook_mode,plot,iplot\n",
    "init_notebook_mode(connected=True)"
   ]
  },
  {
   "cell_type": "markdown",
   "metadata": {},
   "source": [
    "# Scrap Data From The Github Site (Link Below)"
   ]
  },
  {
   "cell_type": "markdown",
   "metadata": {},
   "source": [
    "Github Data API - https://raw.githubusercontent.com/2020PB/police-brutality/data_build/all-locations.json\n",
    "Github Repository of Police Brutality - https://github.com/2020PB/police-brutality/blob/master/README.md"
   ]
  },
  {
   "cell_type": "code",
   "execution_count": 5,
   "metadata": {},
   "outputs": [],
   "source": [
    "pb_data_raw = pd.read_json(r'https://raw.githubusercontent.com/2020PB/police-brutality/data_build/all-locations.json')"
   ]
  },
  {
   "cell_type": "markdown",
   "metadata": {},
   "source": [
    "# Tests on Data"
   ]
  },
  {
   "cell_type": "code",
   "execution_count": 6,
   "metadata": {},
   "outputs": [
    {
     "data": {
      "text/plain": [
       "282"
      ]
     },
     "execution_count": 6,
     "metadata": {},
     "output_type": "execute_result"
    }
   ],
   "source": [
    "# Check of number of records in repository\n",
    "len(pb_data_raw)"
   ]
  },
  {
   "cell_type": "markdown",
   "metadata": {},
   "source": [
    "# Set data up into proper matrix format "
   ]
  },
  {
   "cell_type": "code",
   "execution_count": 7,
   "metadata": {},
   "outputs": [],
   "source": [
    "# creates a dictionary from the List of Data Frame Names (Keys) and the Data Frame Files (Values) themselves\n",
    "dict_of_pb_dfs = {}\n",
    "\n",
    "for pb_record_idex_num in range(0,len(pb_data_raw['data'])): \n",
    "    globals()[\"pb_df_{}\".format(pb_record_idex_num)]  = pd.DataFrame(pb_data_raw['data'][pb_record_idex_num])\n",
    "    dict_of_pb_dfs[\"pb_df_{}\".format(pb_record_idex_num)] = globals()[\"pb_df_{}\".format(pb_record_idex_num)]\n",
    "    \n",
    "# Reduces the record numbers to 1 per incident in each data frame\n",
    "for pb_df in dict_of_pb_dfs.keys():\n",
    "    num_count = len(dict_of_pb_dfs[pb_df])-1\n",
    "    while num_count > 0:\n",
    "        dict_of_pb_dfs[pb_df].drop(num_count, inplace = True)\n",
    "        num_count -= 1\n",
    "        \n",
    "# Concatenate the individual data frames into one dataframe with all the incident data (one link/record per incident)\n",
    "list_of_values = list(dict_of_pb_dfs.values())\n",
    "pd_consolidated = pd.concat(list_of_values, sort = True)\n",
    "pd_consolidated['incident_value'] = 1\n",
    "\n"
   ]
  },
  {
   "cell_type": "markdown",
   "metadata": {},
   "source": [
    "# Graphing"
   ]
  },
  {
   "cell_type": "code",
   "execution_count": 23,
   "metadata": {},
   "outputs": [
    {
     "data": {
      "application/vnd.plotly.v1+json": {
       "config": {
        "plotlyServerURL": "https://plot.ly"
       },
       "data": [
        {
         "customdata": [
          "2020-06-01",
          "2020-05-31",
          "2020-05-30",
          "2020-05-30",
          "2020-05-30",
          "2020-06-01",
          "2020-06-02",
          "2020-06-01",
          "2020-06-03",
          "2020-06-01",
          "2020-05-30",
          "2020-05-31",
          "2020-05-31",
          "2020-05-30",
          "2020-05-30",
          "2020-05-30",
          "2020-05-30",
          "2020-05-31",
          "2020-05-31",
          "2020-05-31",
          "2020-05-31",
          "2020-05-31",
          "2020-05-31",
          "2020-05-31",
          "2020-05-31",
          "2020-05-31",
          "2020-06-01",
          "2020-06-01",
          "2020-06-02",
          "2020-06-02",
          "2020-06-02",
          "2020-06-03",
          "2020-06-05",
          "2020-05-30",
          "2020-05-31",
          "2020-06-02",
          "2020-05-31",
          "2020-06-01",
          "2020-06-01",
          "2020-05-31",
          "2020-06-04",
          "2020-05-29",
          "2020-05-29",
          "2020-05-29",
          "2020-05-31",
          "2020-06-01",
          "2020-05-31",
          "2020-05-31",
          "2020-06-01",
          "2020-06-02",
          "2020-05-30",
          "2020-05-31",
          "2020-05-31",
          "2020-05-31",
          "2020-06-01",
          "2020-06-01",
          "2020-06-02",
          "2020-05-30",
          "2020-06-02",
          "2020-05-29",
          "2020-05-30",
          "2020-06-01",
          "2020-06-05",
          "2020-06-03",
          "2020-05-29",
          "2020-05-31",
          "2020-06-01",
          "2020-06-03",
          "2020-05-31",
          "2020-05-31",
          "2020-05-30",
          "2020-05-30",
          "",
          "2020-05-31",
          "2020-06-01",
          "2020-06-01",
          "2020-06-01",
          "2020-06-01",
          "2020-06-03",
          "",
          "2020-06-01",
          "2020-06-01",
          "2020-06-04",
          "2020-05-31",
          "2020-05-29",
          "2020-05-29",
          "2020-05-29",
          "2020-05-30",
          "2020-05-30",
          "2020-05-30",
          "2020-05-30",
          "2020-05-30",
          "2020-05-31",
          "2020-05-31",
          "2020-05-31",
          "2020-05-31",
          "2020-05-31",
          "2020-05-31",
          "2020-05-31",
          "2020-06-01",
          "2020-06-02",
          "2020-06-02",
          "2020-06-02",
          "2020-06-03",
          "2020-06-04",
          "2020-06-04",
          "2020-06-05",
          "2020-06-06",
          "2020-05-29",
          "2020-05-29",
          "2020-05-30",
          "2020-05-30",
          "2020-05-30",
          "2020-05-30",
          "2020-05-31",
          "2020-06-01",
          "2020-06-02",
          "2020-05-31",
          "",
          "2020-05-31",
          "2020-06-03",
          "2020-05-30",
          "2020-05-31",
          "2020-05-31",
          "2020-05-31",
          "2020-05-31",
          "2020-05-31",
          "2020-05-31",
          "2020-05-31",
          "2020-06-01",
          "2020-06-01",
          "2020-06-02",
          "2020-06-06",
          "2020-06-06",
          "2020-06-07",
          "2020-06-07",
          "2020-05-30",
          "2020-05-30",
          "2020-05-31",
          "2020-05-31",
          "2020-06-01",
          "2020-06-01",
          "2020-06-03",
          "2020-05-31",
          "2020-06-03",
          "2020-05-29",
          "2020-05-30",
          "2020-05-30",
          "2020-05-31",
          "2020-05-30",
          "2020-05-31",
          "2020-05-31",
          "2020-05-31",
          "2020-06-02",
          "",
          "2020-06-04",
          "2020-06-03",
          "2020-05-31",
          "2020-06-02",
          "2020-05-26",
          "2020-05-30",
          "2020-05-30",
          "2020-05-30",
          "2020-05-30",
          "2020-05-30",
          "2020-05-30",
          "2020-05-30",
          "2020-05-30",
          "2020-05-31",
          "2020-05-31",
          "2020-05-31",
          "2020-05-31",
          "2020-05-31",
          "2020-05-31",
          "2020-05-31",
          "2020-05-31",
          "2020-05-31",
          "2020-05-31",
          "2020-05-31",
          "2020-05-31",
          "2020-06-02",
          "2020-06-02",
          "2020-06-02",
          "2020-05-29",
          "2020-05-30",
          "2020-05-30",
          "2020-05-31",
          "2020-05-29",
          "2020-06-01",
          "2020-05-31",
          "2020-06-01",
          "2020-05-30",
          "2020-05-30",
          "2020-06-02",
          "2020-06-02",
          "2020-06-02",
          "2020-06-06",
          "2020-05-31",
          "",
          "2020-06-01",
          "2020-06-01",
          "2020-06-01",
          "2020-06-01",
          "2020-05-30",
          "2020-05-31",
          "2020-05-30",
          "2020-05-29",
          "2020-05-30",
          "2020-05-30",
          "2020-05-30",
          "2020-05-31",
          "2020-05-31",
          "2020-05-31",
          "2020-05-31",
          "2020-05-31",
          "2020-05-31",
          "2020-05-31",
          "2020-05-31",
          "2020-06-01",
          "2020-06-02",
          "2020-05-31",
          "2020-05-30",
          "2020-05-30",
          "2020-05-30",
          "2020-05-30",
          "2020-05-31",
          "2020-05-31",
          "2020-06-02",
          "2020-06-02",
          "2020-05-29",
          "2020-05-29",
          "2020-05-30",
          "2020-05-31",
          "2020-05-30",
          "2020-06-02",
          "2020-05-31",
          "2020-05-31",
          "2020-06-01",
          "2020-05-31",
          "2020-06-01",
          "2020-06-01",
          "",
          "2020-06-01",
          "",
          "",
          "2020-06-01",
          "",
          "2020-06-01",
          "2020-06-01",
          "2020-06-03",
          "2020-06-03",
          "2020-06-03",
          "2020-06-05",
          "2020-05-30",
          "2020-05-31",
          "2020-05-31",
          "2020-05-31",
          "2020-05-31",
          "2020-06-01",
          "2020-06-01",
          "2020-05-31",
          "2020-06-01",
          "2020-05-28",
          "2020-05-29",
          "2020-05-29",
          "2020-05-29",
          "2020-05-29",
          "2020-05-30",
          "2020-05-30",
          "2020-05-30",
          "2020-05-31",
          "2020-05-31",
          "2020-05-31",
          "2020-06-02",
          "2020-06-04",
          "",
          "2020-05-31",
          "2020-06-01",
          "2020-06-01",
          "2020-06-04",
          "2020-06-05",
          "2020-06-03"
         ],
         "hovertemplate": "City: %{text}<br>Incident Description: %{hovertext}<br>Date of Incident: %{customdata}<extra></extra>",
         "hovertext": [
          "Law enforcement gas a crowd chanting “we want peace” right after exiting the building.",
          "Peaceful protestors kneeling are shot with an explosive projectile.",
          "Police shove an old man with a cane to the ground",
          "Police shoot man on the ground in the spine with a beanbag point-blank",
          "Police shoot tear gas canister at man from close range, striking him in the chest",
          "Police push and tackle man that is being vocal",
          "Law enforcement gas teenagers at a park",
          "Police beat person on the ground",
          "Law enforcement concealing badge",
          "Law enforcement arrest people walking, you can hear on the radio “You should not be driving past anybody, stop and take somebody into custody”.",
          "Law enforcement shoot and throw tear gas at protesters",
          "Police shoot woman in the face",
          "Reporter shot in neck by rubber bullet",
          "LAPD officer beats multiple protesters that are filming them during a protest in Beverley Hills",
          "Los Angeles law enforcement beat protesters with batons",
          "ABC7 reporters are hit by tear gas",
          "Police beat protesters with batons",
          "Police fire rubber/pepper bullets at innocent protestors",
          "Police officer puts his knee on a protesters neck, is pulled off",
          "Police shoot rubber bullets at protesters",
          "Man shot in the head with deterrent rounds, is sent to hospital",
          "Los Angeles law enforcement beat protesters for no apparent reason.",
          "Police tackle and arrest protester, indiscriminately beat others with batons and shoot them with less lethals",
          "LAPD SUV drives into protesters, speeds away",
          "Los Angeles law enforcement shot at a man on his own balcony",
          "Police shoot crowd of unarmed protestors with rubber bullets",
          "Police strike protestors with batons",
          "Police shoot rubber bullets at two peaceful protestors",
          "LAPD drive by shootings at fleeing people announcing \"This is an illegal assembly\"",
          "Photograph documents aftermath of LAPD firing non-lethal round at face of homeless man in wheelchair",
          "Police shoot unarmed man in a wheelchair in the face",
          "Police zip tie protesters and lock them inside cages",
          "Police fire projectiles at protesters and discharge teargas",
          "Officer runs down protesters with police cruiser",
          "Oakland law enforcement shoot a reporter",
          "Law enforcement break a car window for no apparent reason",
          "Police shoot protester in the head",
          "Sacramento law enforcement shoot shoot protesters and then announce their assembly unlawful",
          "Police choke man and push woman filming event to the ground",
          "Police kettle and fire on fleeing protestors",
          "Police abduct woman in unmarked van",
          "Police shoot a projectile at a protestor",
          "Officer puts knee on neck of protester",
          "Police fire on community activist",
          "Police open fire on protestors",
          "Law enforcement fire on crowd with their arms up chanting",
          "San Francisco law enforcement shove man off the sidewalk onto the ground",
          "Police fire pepper bullets into apartment",
          "Police fatally shoot unarmed 22 year old",
          "Armored law enforcement vehicle threatens protestors",
          "Police pepper spray and arrest protestor holding sign",
          "Police pepper spray protestors walking away and later arrest one of them",
          "Police tear gas a park",
          "Kansas City police attempt to arrest a man leading the protest then spray the crowd",
          "Police arrest man for speaking and teargas nearby protestors",
          "Police pull away protestor and pepper sprays others",
          "Florissant officer hits man with unmarked police vehicle",
          "Officer tackles and arrests person walking home from protest",
          "Police use or threaten to use pepper-spray in an elevator on apartment residents trying to go home",
          "Police repeatedly shoot tear gas into crowd, even after crowd has dispersed",
          "Police truck shoots at cars, hitting mother and breaking her finger",
          "Police pepper spray Des Moines Register reporter even as she repeatedly announced herself as press",
          "Armed police raid gay bar helping wounded Black Lives Matter protesters on the first day of Pride Month",
          "Police shoot tear gas at peaceful protestors who have their hands up",
          "Police arrest a man for speaking at them from a distance.",
          "Police shove and drag man through the street",
          "Police charge into peaceful crowd shouting \"grab anybody\"",
          "Officer forces women into car and wrestles with another",
          "Police tackle and detain 6 protestors",
          "Police officer maces woman and kicks her in the head",
          "Police pepperspray protesters helping someone stand up",
          "Police beat down man",
          "Police drag cooperating man from car and punch him in the face",
          "Philadelphia cops beat man and forcefully put his fingers on their baton.",
          "Philadelphia Police Trap Protesters on Highway, Then Tear Gas Them and Shoot Rubber Bullets",
          "Police officer pepper-sprays three people on their knees",
          "Police shove protestors and strike man across the face with a baton",
          "Officer attacks woman for no apparent reason",
          "Police kneel on man who says \"I can't breathe\", officer yells profanities back",
          "Officer pepper-sprays a woman who is on her knees with her hands up",
          "Police fire tear gas and rubber bullets on peaceful assembly",
          "Police tackle man giving interview",
          "Police shove elderly man, causing him to fall and hit the back of his head",
          "Police shoot at people filming",
          "Police shove woman to the ground, inducing a seizure",
          "Police drive by man and hit him with car door",
          "Member of the New York State Assembly pepper-sprayed",
          "Police officer throws man against police car",
          "NYPD beat people with batons",
          "Cop shoves a guy into a metal fence",
          "Cop shoving a person to the ground towards metal trash bins",
          "Huffpost reporter is arrested by NYPD",
          "Police pull off protesters mask to pepper spray him",
          "NYPD rams protesters",
          "Police assault protesters",
          "State senator pepper sprayed",
          "Protesters with hands up assaulted by police",
          "Police injure journalist",
          "Officers beat man until his face and belongings are bloody",
          "Officer threatens protestors with what appears to be a handgun",
          "Police officer body slams protestor",
          "Police beat protesters leaving Stonewall Inn solidarity protest",
          "Officers beat man with batons",
          "Man walking his bike beaten by officers with batons",
          "NYPD Officers hit and knock down a protestor and a journalist",
          "Officers arrest cyclists; a man who questions police is clubbed in the neck",
          "NYPD pushes crowd into tight space and attacks several with batons",
          "Multiple police officers tackle cyclist protester one officer punches head of protester",
          "Officer charges through other officers to attack a protestor who is backing away",
          "Riot police charge peaceful protestors",
          "Police shove and scream at men walking down the street",
          "Police pepperspray reporter holding up media badge",
          "Police shoot rubber bullets at reporters",
          "Woman is charged by police and thrown to the ground",
          "Police spray unarmed man with pepperspray and shoot him in the face with a teargas canister",
          "Police fire tear gas at prone protesters",
          "Police fire tear gas at peaceful protesters",
          "Compilation of incidents",
          "Officer beats a protestor while pinning him on the ground",
          "Police swarm a woman without provocation",
          "Police shove a protesting woman down a set of concrete steps.",
          "Officer pins protestor by pushing his knee into his neck",
          "Police beat unarmed man on the ground",
          "Police indiscriminately pepper spray peaceful protesters",
          "Police pepper spray young child",
          "Police throw tear gas at peaceful protestors",
          "Police officer pulls protestor to the ground unprovoked",
          "Law enforcement officer punches pinned protestor",
          "Law enforcement officers throw flashbangs into peaceful crowd",
          "Police initiate violence",
          "Police strike active newscrew with flashbang",
          "Officers deploy flashbangs and pepper spray peaceful protesters",
          "Officer chokes and places knee on neck of woman",
          "Police kettle protesters to force them to disperse through tear-gas",
          "Police use tear gas on protestors",
          "Woman hit with police projectile resumes breathing after CPR, delivered to hospital",
          "Police shoot rubber bullets at reporter",
          "Young woman shot in the head by a rubber bullet",
          "Police smashing water bottles",
          "Police shoot at cars in traffic from overpass",
          "Louisville police swarm and beat a man screaming on the ground",
          "Restaurant owner shot and killed",
          "Protestors in St. Matthews shot with pepper rounds",
          "Police Individually Target Peaceful Protestor and Arrest Him",
          "Police Assault Suspect on Ground During Arrest",
          "Officer body slams woman onto ground",
          "Officer shoves a woman with his bike",
          "Cops pull people out of their car, taze them",
          "Police shove and shoot protesters",
          "Man tased in back for speaking up after man on ground is punched in face by cop",
          "Police Shove a woman down to her knees",
          "Law enforcement shoot a woman in the head",
          "Man tackled to ground after speaking to police",
          "Police use excessive force during an arrest",
          "Police fire on protesters outside city hall",
          "One woman is pinned to the ground and another is pepper-sprayed",
          "Police using selective enforcement on black individuals",
          "Officer pepper-sprays protestor walking backwards with arms raised",
          "Police restrain man using knee on neck",
          "Police shoot flashbang grenades into crowd",
          "Police storm gas station, attacking reporters who show press badges",
          "Continuation of gas station event; Awaijane family told to go inside gas station, they comply and seek shelter inside, police then shoot rubber bullets and tear gas inside the building",
          "Police drive by spraying",
          "CNN Reporter arrested",
          "WCCO photojournalist arrested",
          "CNN crew shot at with rubber bullets and tear gas while live on air",
          "Police shoot rubber bullets and teargas at an MSNBC reporter",
          "Swiss journalists shot at with rubber bullets by police",
          "Police shoot at a woman on her porch",
          "LA-Times employee recounts getting shot",
          "Reporter shares his experience",
          "Police slashes tires",
          "CBS news crew shot with rubber bullets",
          "Police throw flashbangs at reporter",
          "Police blind a reporter with rubber bullet",
          "Police shoot Reuters reporters with rubber bullets",
          "Police shoot at, threaten to arrest reporter",
          "Police stop SUV to driveby pepperspray protesters through window",
          "Patient care assistant reports being shot with rubber bullets while treating injured protestors",
          "Journalists pepper sprayed and hit with flashbangs and batons",
          "Law enforcement close on protesters from both sides with pepper bullets, tear gas, and flashbangs",
          "Police surround approved medical station and destroy supplies",
          "Police shoot to intimidate owner of LGBTQ bar",
          "Police pepper spray protesters attempting to record them",
          "Police tear gas peaceful protesters",
          "Toddler teargassed by police",
          "Protester hit in the face with a gas cannister",
          "Police confiscate medical supplies from medical station",
          "Police beat woman with batons and shoot pepper balls, shove another to the ground",
          "Officer drops tear gas into peaceful protest without warning",
          "Officer shoots projectile from moving vehicle",
          "Police violently break up peaceful protest",
          "Officer pepper-sprays protestor",
          "Police appear to tear-gas a homeless camp",
          "Police deploy shoot teargas/flashbang grenade into a crowd",
          "Police launch teargas into a crowd",
          "Officer attacks photographer with baton and pepper sprays him",
          "Police beat an innocent man crossing the street with batons.",
          "A cop takes someone's protest sign and destroys it.",
          "Worcester police officers cover badge numbers during protest",
          "Riot police throw protestor to the ground",
          "Riot police fire on protestors without provocation",
          "Numerous eyewitness report being tackled by police officers",
          "Police disperse peaceful protest with tear gas, flash bangs and pepper bullets",
          "First hand account of police violently dispersing crowds",
          "Officer swings baton at protesters, beats one who is trying to keep crowd back",
          "Cop hits a protestor in the face, escalates to whole crowd being pepper sprayed",
          "Congresswoman Joyce Beatty reportedly sprayed with \"mace or pepper spray\"",
          "Peaceful protester sprayed in the face with mace",
          "Police pepperspray protesters for chanting",
          "Police pepper-spray a medic",
          "Police mace an innocent woman",
          "Police intimidating campus protesters by driving car towards them",
          "Police pepper spray two kneeling protesters",
          "Police pepper spray African-American photographer",
          "Police pepperspray sitting protesters",
          "Woman holding a sign is shot with rubber bullets",
          "Protestors kept in a courtyard with no bathroom breaks, water, or food, for nine hours",
          "Police push and pepper spray reporters from The Lantern newspaper",
          "Officer refuses to give diabetic arrestee her insulin back",
          "Police critically injure 20 year old black protester during protests against police violence",
          "Police assault protesters",
          "Police shoot non-violent protestor in the head",
          "Police use tear gas & rubber bullets on protesters",
          "Police open fire on crowd with rubber bullets",
          "Police open fire on crowd after a protester throws water on them",
          "Police spray a man in the face while he stands still ~3 feet away from them.",
          "Police fire upon protesters seeking medical help",
          "Police officer tackles and knees man on the ground",
          "Police trample protester with horse",
          "Officers shove a woman to the pavement",
          "Police shoot unarmed woman in the face with a rubber bullet",
          "Police use flashbangs and tear gas on protestors",
          "Man shot in the eye",
          "Police maneuver protestors onto bridge and fire tear gas and rubber bullets",
          "Police shoot man filming them with what were allegedly rubber bullets",
          "Police Mace, shoot pepper bullets at protesters sitting on the ground",
          "Peaceful protestors arrested for breaking curfew",
          "Riot Police rams shield into BBC cameraman",
          "Australian news crew and protestors attacked by police",
          "Protestors are quickly and violently pushed out of Lafayette Square",
          "Officer fires tear gas cannister at protestor's head",
          "Police violence outside the White House",
          "Law enforcement officers fire rubber bullets into crowd, pepper-spray kneeling protestor and CNN crew",
          "Law enforcement officers throw stinger grenades at peaceful protestors",
          "Man who sheltered protestors discusses law enforcement officers shooting tear gas into his house",
          "Police charge peaceful crowd, beat them with shields",
          "Police fire into crowd hitting one protester",
          "Protester falls and is stepped on",
          "Police officer pepper sprays protestors for no reason",
          "Police tear gas reporters",
          "Police preemptively tear gas peaceful protestors",
          "Police fire rubber bullets on dispersing crowd",
          "Protester shot in head with rubber bullet",
          "Police harass and assault John Cusack",
          "Police pull black women out of the car and throw them to the ground",
          "Police pepperspray reporter for recording",
          "Cops hit Chicago Police Board President",
          "Video showing CPD officer punching protester in Uptown under investigation",
          "CPD chase down protester on TV",
          "Officers grabs someone by the neck then more cops pile on",
          "Multiple cops pin man to ground while repeatedly punching him",
          "Reporter shot with multiple pepper balls",
          "Police pepperspray people trying to record",
          "Denver law enforcement shoot at reporters",
          "Denver SWAT shoot at woman trying to stop armored car",
          "Police discharge tear gas into group of protesters",
          "Police throw reporter into fire",
          "Police tear gas and shoot protestors",
          "Denver law enforcement shoot at reporter standing on the sidewalk",
          "Police fire pepper balls at car with pregnant woman",
          "Police officer fires at protestor while driving away",
          "Police pepper sprays peaceful protestor and fires tear gas on crowd",
          "Police shoot protester from behind with tear gas canister",
          "Police tackle group of peaceful protesters",
          "Officers pepper-spray Virginia state delegate peacefully protesting",
          "Officer sprays a man watching from his balcony",
          "Tear gas fired at peaceful protest",
          "Officer spits on detained protestor",
          "Law enforcement officer fires tear gas at vehicle only to discover it's a police vehicle",
          "Officer repeatedly uses stun gun on suspect who said he couldn't breathe",
          "Police throw tear-gas at protestors on a bridge."
         ],
         "marker": {
          "color": "black"
         },
         "name": "Police Brutality Incident Captured on Video",
         "showlegend": true,
         "text": [
          "Bentonville",
          "Little Rock",
          "Salt Lake City",
          "Salt Lake City",
          "Salt Lake City",
          "Salt Lake City",
          "Clayton",
          "Compton",
          "Costa Mesa",
          "Hollywood",
          "La Mesa",
          "La Mesa",
          "Long Beach",
          "Los Angeles",
          "Los Angeles",
          "Los Angeles",
          "Los Angeles",
          "Los Angeles",
          "Los Angeles",
          "Los Angeles",
          "Los Angeles",
          "Los Angeles",
          "Los Angeles",
          "Los Angeles",
          "Los Angeles",
          "Los Angeles",
          "Los Angeles",
          "Los Angeles",
          "Los Angeles",
          "Los Angeles",
          "Los Angeles",
          "Los Angeles",
          "Los Angeles",
          "Oakland",
          "Oakland",
          "Riverside",
          "Sacramento",
          "Sacramento",
          "Sacramento",
          "San Diego",
          "San Diego",
          "San Jose",
          "San Jose",
          "San Jose",
          "Santa Ana",
          "San Luis Obispo",
          "San Francisco",
          "Santa Monica",
          "Vallejo",
          "Walnut Creek",
          "Kansas City",
          "Kansas City",
          "Kansas City",
          "Kansas City",
          "Kansas City",
          "Kansas City",
          "St. Louis",
          "Phoenix",
          "Des Moines",
          "Des Moines",
          "Des Moines",
          "Des Moines",
          "Des Moines",
          "Iowa City",
          "Las Vegas",
          "Las Vegas",
          "Las Vegas",
          "Waterbury",
          "Waterbury",
          "Erie",
          "Harrisburg",
          "Philadelphia",
          "Philadelphia",
          "Philadelphia",
          "Philadelphia",
          "Philadelphia",
          "Philadelphia",
          "Philadelphia",
          "Philadelphia",
          "Pittsburgh",
          "Pittsburgh",
          "Buffalo",
          "Buffalo",
          "Rochester",
          "New York City",
          "New York City",
          "New York City",
          "New York City",
          "New York City",
          "New York City",
          "New York City",
          "New York City",
          "New York City",
          "New York City",
          "New York City",
          "New York City",
          "New York City",
          "New York City",
          "New York City",
          "New York City",
          "New York City",
          "New York City",
          "New York City",
          "New York City",
          "New York City",
          "New York City",
          "New York City",
          "New York City",
          "Detroit",
          "Detroit",
          "Detroit",
          "Detroit",
          "Detroit",
          "Detroit",
          "Grand Rapids",
          "Kalamazoo",
          "Kalamazoo",
          "",
          "",
          "Memphis",
          "St. Johnsbury",
          "Seattle",
          "Seattle",
          "Seattle",
          "Seattle",
          "Seattle",
          "Seattle",
          "Seattle",
          "Seattle",
          "Seattle",
          "Seattle",
          "Seattle",
          "Seattle",
          "Seattle",
          "Seattle",
          "Seattle",
          "Louisville",
          "Louisville",
          "Louisville",
          "Louisville",
          "Louisville",
          "Louisville",
          "Louisville",
          "Charleston",
          "Location Unknown",
          "Atlanta",
          "Atlanta",
          "Atlanta",
          "Atlanta",
          "Lawrenceville",
          "Fort Lauderdale",
          "Fort Lauderdale",
          "Miami",
          "Orlando",
          "Orlando",
          "Tampa",
          "Fargo",
          "Madison",
          "Milwaukee",
          "Minneapolis",
          "Minneapolis",
          "Minneapolis",
          "Minneapolis",
          "Minneapolis",
          "Minneapolis",
          "Minneapolis",
          "Minneapolis",
          "Minneapolis",
          "Minneapolis",
          "Minneapolis",
          "Minneapolis",
          "Minneapolis",
          "Minneapolis",
          "Minneapolis",
          "Minneapolis",
          "Minneapolis",
          "Minneapolis",
          "Minneapolis",
          "Minneapolis",
          "Minneapolis",
          "Charlotte",
          "Asheville",
          "Raleigh",
          "Fort Wayne",
          "Fort Wayne",
          "Fort Wayne",
          "Fort Wayne",
          "Indianapolis",
          "Indianapolis",
          "Lafayette",
          "Eugene",
          "Portland",
          "Portland",
          "Portland",
          "Portland",
          "Portland",
          "Portland",
          "Boston",
          "Boston",
          "Worcester",
          "Worcester",
          "Worcester",
          "Worcester",
          "Cincinnati",
          "Cincinnati",
          "Cleveland",
          "Columbus",
          "Columbus",
          "Columbus",
          "Columbus",
          "Columbus",
          "Columbus",
          "Columbus",
          "Columbus",
          "Columbus",
          "Columbus",
          "Columbus",
          "Columbus",
          "Columbus",
          "Columbus",
          "Austin",
          "Austin",
          "Austin",
          "Austin",
          "Austin",
          "Austin",
          "Austin",
          "Austin",
          "Baytown",
          "Houston",
          "Houston",
          "Dallas",
          "Dallas",
          "Dallas",
          "Dallas",
          "San Antonio",
          "Omaha",
          "Omaha",
          "DC",
          "DC",
          "DC",
          "DC",
          "DC",
          "DC",
          "DC",
          "DC",
          "DC",
          "DC",
          "Huntsville",
          "Huntsville",
          "Huntsville",
          "Huntsville",
          "Huntsville",
          "Chicago",
          "Chicago",
          "Chicago",
          "Chicago",
          "Chicago",
          "Chicago",
          "Chicago",
          "Joliet",
          "Colorado Springs",
          "Denver",
          "Denver",
          "Denver",
          "Denver",
          "Denver",
          "Denver",
          "Denver",
          "Denver",
          "Denver",
          "Denver",
          "Denver",
          "Denver",
          "Denver",
          "Manassas",
          "Richmond",
          "Richmond",
          "Richmond",
          "Richmond",
          "Fairfax",
          "New Orleans"
         ],
         "type": "bar",
         "width": 0.8,
         "x": [
          "Arkansas",
          "Arkansas",
          "Utah",
          "Utah",
          "Utah",
          "Utah",
          "California",
          "California",
          "California",
          "California",
          "California",
          "California",
          "California",
          "California",
          "California",
          "California",
          "California",
          "California",
          "California",
          "California",
          "California",
          "California",
          "California",
          "California",
          "California",
          "California",
          "California",
          "California",
          "California",
          "California",
          "California",
          "California",
          "California",
          "California",
          "California",
          "California",
          "California",
          "California",
          "California",
          "California",
          "California",
          "California",
          "California",
          "California",
          "California",
          "California",
          "California",
          "California",
          "California",
          "California",
          "Missouri",
          "Missouri",
          "Missouri",
          "Missouri",
          "Missouri",
          "Missouri",
          "Missouri",
          "Arizona",
          "Iowa",
          "Iowa",
          "Iowa",
          "Iowa",
          "Iowa",
          "Iowa",
          "Nevada",
          "Nevada",
          "Nevada",
          "Connecticut",
          "Connecticut",
          "Pennsylvania",
          "Pennsylvania",
          "Pennsylvania",
          "Pennsylvania",
          "Pennsylvania",
          "Pennsylvania",
          "Pennsylvania",
          "Pennsylvania",
          "Pennsylvania",
          "Pennsylvania",
          "Pennsylvania",
          "Pennsylvania",
          "New York",
          "New York",
          "New York",
          "New York",
          "New York",
          "New York",
          "New York",
          "New York",
          "New York",
          "New York",
          "New York",
          "New York",
          "New York",
          "New York",
          "New York",
          "New York",
          "New York",
          "New York",
          "New York",
          "New York",
          "New York",
          "New York",
          "New York",
          "New York",
          "New York",
          "New York",
          "New York",
          "Michigan",
          "Michigan",
          "Michigan",
          "Michigan",
          "Michigan",
          "Michigan",
          "Michigan",
          "Michigan",
          "Michigan",
          "Unknown Location",
          "Unknown Location",
          "Tennessee",
          "Vermont",
          "Washington",
          "Washington",
          "Washington",
          "Washington",
          "Washington",
          "Washington",
          "Washington",
          "Washington",
          "Washington",
          "Washington",
          "Washington",
          "Washington",
          "Washington",
          "Washington",
          "Washington",
          "Kentucky",
          "Kentucky",
          "Kentucky",
          "Kentucky",
          "Kentucky",
          "Kentucky",
          "Kentucky",
          "South Carolina",
          "South Carolina",
          "Georgia",
          "Georgia",
          "Georgia",
          "Georgia",
          "Georgia",
          "Florida",
          "Florida",
          "Florida",
          "Florida",
          "Florida",
          "Florida",
          "North Dakota",
          "Wisconsin",
          "Wisconsin",
          "Minnesota",
          "Minnesota",
          "Minnesota",
          "Minnesota",
          "Minnesota",
          "Minnesota",
          "Minnesota",
          "Minnesota",
          "Minnesota",
          "Minnesota",
          "Minnesota",
          "Minnesota",
          "Minnesota",
          "Minnesota",
          "Minnesota",
          "Minnesota",
          "Minnesota",
          "Minnesota",
          "Minnesota",
          "Minnesota",
          "Minnesota",
          "North Carolina",
          "North Carolina",
          "North Carolina",
          "Indiana",
          "Indiana",
          "Indiana",
          "Indiana",
          "Indiana",
          "Indiana",
          "Indiana",
          "Oregon",
          "Oregon",
          "Oregon",
          "Oregon",
          "Oregon",
          "Oregon",
          "Oregon",
          "Massachusetts",
          "Massachusetts",
          "Massachusetts",
          "Massachusetts",
          "Massachusetts",
          "Massachusetts",
          "Ohio",
          "Ohio",
          "Ohio",
          "Ohio",
          "Ohio",
          "Ohio",
          "Ohio",
          "Ohio",
          "Ohio",
          "Ohio",
          "Ohio",
          "Ohio",
          "Ohio",
          "Ohio",
          "Ohio",
          "Ohio",
          "Ohio",
          "Texas",
          "Texas",
          "Texas",
          "Texas",
          "Texas",
          "Texas",
          "Texas",
          "Texas",
          "Texas",
          "Texas",
          "Texas",
          "Texas",
          "Texas",
          "Texas",
          "Texas",
          "Texas",
          "Nebraska",
          "Nebraska",
          "Washington DC",
          "Washington DC",
          "Washington DC",
          "Washington DC",
          "Washington DC",
          "Washington DC",
          "Washington DC",
          "Washington DC",
          "Washington DC",
          "Washington DC",
          "Alabama",
          "Alabama",
          "Alabama",
          "Alabama",
          "Alabama",
          "Illinois",
          "Illinois",
          "Illinois",
          "Illinois",
          "Illinois",
          "Illinois",
          "Illinois",
          "Illinois",
          "Colorado",
          "Colorado",
          "Colorado",
          "Colorado",
          "Colorado",
          "Colorado",
          "Colorado",
          "Colorado",
          "Colorado",
          "Colorado",
          "Colorado",
          "Colorado",
          "Colorado",
          "Colorado",
          "Virginia",
          "Virginia",
          "Virginia",
          "Virginia",
          "Virginia",
          "Virginia",
          "Louisiana"
         ],
         "y": [
          1,
          1,
          1,
          1,
          1,
          1,
          1,
          1,
          1,
          1,
          1,
          1,
          1,
          1,
          1,
          1,
          1,
          1,
          1,
          1,
          1,
          1,
          1,
          1,
          1,
          1,
          1,
          1,
          1,
          1,
          1,
          1,
          1,
          1,
          1,
          1,
          1,
          1,
          1,
          1,
          1,
          1,
          1,
          1,
          1,
          1,
          1,
          1,
          1,
          1,
          1,
          1,
          1,
          1,
          1,
          1,
          1,
          1,
          1,
          1,
          1,
          1,
          1,
          1,
          1,
          1,
          1,
          1,
          1,
          1,
          1,
          1,
          1,
          1,
          1,
          1,
          1,
          1,
          1,
          1,
          1,
          1,
          1,
          1,
          1,
          1,
          1,
          1,
          1,
          1,
          1,
          1,
          1,
          1,
          1,
          1,
          1,
          1,
          1,
          1,
          1,
          1,
          1,
          1,
          1,
          1,
          1,
          1,
          1,
          1,
          1,
          1,
          1,
          1,
          1,
          1,
          1,
          1,
          1,
          1,
          1,
          1,
          1,
          1,
          1,
          1,
          1,
          1,
          1,
          1,
          1,
          1,
          1,
          1,
          1,
          1,
          1,
          1,
          1,
          1,
          1,
          1,
          1,
          1,
          1,
          1,
          1,
          1,
          1,
          1,
          1,
          1,
          1,
          1,
          1,
          1,
          1,
          1,
          1,
          1,
          1,
          1,
          1,
          1,
          1,
          1,
          1,
          1,
          1,
          1,
          1,
          1,
          1,
          1,
          1,
          1,
          1,
          1,
          1,
          1,
          1,
          1,
          1,
          1,
          1,
          1,
          1,
          1,
          1,
          1,
          1,
          1,
          1,
          1,
          1,
          1,
          1,
          1,
          1,
          1,
          1,
          1,
          1,
          1,
          1,
          1,
          1,
          1,
          1,
          1,
          1,
          1,
          1,
          1,
          1,
          1,
          1,
          1,
          1,
          1,
          1,
          1,
          1,
          1,
          1,
          1,
          1,
          1,
          1,
          1,
          1,
          1,
          1,
          1,
          1,
          1,
          1,
          1,
          1,
          1,
          1,
          1,
          1,
          1,
          1,
          1,
          1,
          1,
          1,
          1,
          1,
          1,
          1,
          1,
          1,
          1,
          1,
          1,
          1,
          1,
          1,
          1,
          1,
          1,
          1,
          1,
          1,
          1,
          1,
          1,
          1,
          1,
          1,
          1,
          1,
          1,
          1,
          1,
          1,
          1,
          1,
          1
         ]
        }
       ],
       "layout": {
        "autosize": true,
        "barmode": "group",
        "legend": {
         "orientation": "h",
         "x": 0.875,
         "y": 0.99
        },
        "template": {
         "data": {
          "bar": [
           {
            "error_x": {
             "color": "#2a3f5f"
            },
            "error_y": {
             "color": "#2a3f5f"
            },
            "marker": {
             "line": {
              "color": "#E5ECF6",
              "width": 0.5
             }
            },
            "type": "bar"
           }
          ],
          "barpolar": [
           {
            "marker": {
             "line": {
              "color": "#E5ECF6",
              "width": 0.5
             }
            },
            "type": "barpolar"
           }
          ],
          "carpet": [
           {
            "aaxis": {
             "endlinecolor": "#2a3f5f",
             "gridcolor": "white",
             "linecolor": "white",
             "minorgridcolor": "white",
             "startlinecolor": "#2a3f5f"
            },
            "baxis": {
             "endlinecolor": "#2a3f5f",
             "gridcolor": "white",
             "linecolor": "white",
             "minorgridcolor": "white",
             "startlinecolor": "#2a3f5f"
            },
            "type": "carpet"
           }
          ],
          "choropleth": [
           {
            "colorbar": {
             "outlinewidth": 0,
             "ticks": ""
            },
            "type": "choropleth"
           }
          ],
          "contour": [
           {
            "colorbar": {
             "outlinewidth": 0,
             "ticks": ""
            },
            "colorscale": [
             [
              0,
              "#0d0887"
             ],
             [
              0.1111111111111111,
              "#46039f"
             ],
             [
              0.2222222222222222,
              "#7201a8"
             ],
             [
              0.3333333333333333,
              "#9c179e"
             ],
             [
              0.4444444444444444,
              "#bd3786"
             ],
             [
              0.5555555555555556,
              "#d8576b"
             ],
             [
              0.6666666666666666,
              "#ed7953"
             ],
             [
              0.7777777777777778,
              "#fb9f3a"
             ],
             [
              0.8888888888888888,
              "#fdca26"
             ],
             [
              1,
              "#f0f921"
             ]
            ],
            "type": "contour"
           }
          ],
          "contourcarpet": [
           {
            "colorbar": {
             "outlinewidth": 0,
             "ticks": ""
            },
            "type": "contourcarpet"
           }
          ],
          "heatmap": [
           {
            "colorbar": {
             "outlinewidth": 0,
             "ticks": ""
            },
            "colorscale": [
             [
              0,
              "#0d0887"
             ],
             [
              0.1111111111111111,
              "#46039f"
             ],
             [
              0.2222222222222222,
              "#7201a8"
             ],
             [
              0.3333333333333333,
              "#9c179e"
             ],
             [
              0.4444444444444444,
              "#bd3786"
             ],
             [
              0.5555555555555556,
              "#d8576b"
             ],
             [
              0.6666666666666666,
              "#ed7953"
             ],
             [
              0.7777777777777778,
              "#fb9f3a"
             ],
             [
              0.8888888888888888,
              "#fdca26"
             ],
             [
              1,
              "#f0f921"
             ]
            ],
            "type": "heatmap"
           }
          ],
          "heatmapgl": [
           {
            "colorbar": {
             "outlinewidth": 0,
             "ticks": ""
            },
            "colorscale": [
             [
              0,
              "#0d0887"
             ],
             [
              0.1111111111111111,
              "#46039f"
             ],
             [
              0.2222222222222222,
              "#7201a8"
             ],
             [
              0.3333333333333333,
              "#9c179e"
             ],
             [
              0.4444444444444444,
              "#bd3786"
             ],
             [
              0.5555555555555556,
              "#d8576b"
             ],
             [
              0.6666666666666666,
              "#ed7953"
             ],
             [
              0.7777777777777778,
              "#fb9f3a"
             ],
             [
              0.8888888888888888,
              "#fdca26"
             ],
             [
              1,
              "#f0f921"
             ]
            ],
            "type": "heatmapgl"
           }
          ],
          "histogram": [
           {
            "marker": {
             "colorbar": {
              "outlinewidth": 0,
              "ticks": ""
             }
            },
            "type": "histogram"
           }
          ],
          "histogram2d": [
           {
            "colorbar": {
             "outlinewidth": 0,
             "ticks": ""
            },
            "colorscale": [
             [
              0,
              "#0d0887"
             ],
             [
              0.1111111111111111,
              "#46039f"
             ],
             [
              0.2222222222222222,
              "#7201a8"
             ],
             [
              0.3333333333333333,
              "#9c179e"
             ],
             [
              0.4444444444444444,
              "#bd3786"
             ],
             [
              0.5555555555555556,
              "#d8576b"
             ],
             [
              0.6666666666666666,
              "#ed7953"
             ],
             [
              0.7777777777777778,
              "#fb9f3a"
             ],
             [
              0.8888888888888888,
              "#fdca26"
             ],
             [
              1,
              "#f0f921"
             ]
            ],
            "type": "histogram2d"
           }
          ],
          "histogram2dcontour": [
           {
            "colorbar": {
             "outlinewidth": 0,
             "ticks": ""
            },
            "colorscale": [
             [
              0,
              "#0d0887"
             ],
             [
              0.1111111111111111,
              "#46039f"
             ],
             [
              0.2222222222222222,
              "#7201a8"
             ],
             [
              0.3333333333333333,
              "#9c179e"
             ],
             [
              0.4444444444444444,
              "#bd3786"
             ],
             [
              0.5555555555555556,
              "#d8576b"
             ],
             [
              0.6666666666666666,
              "#ed7953"
             ],
             [
              0.7777777777777778,
              "#fb9f3a"
             ],
             [
              0.8888888888888888,
              "#fdca26"
             ],
             [
              1,
              "#f0f921"
             ]
            ],
            "type": "histogram2dcontour"
           }
          ],
          "mesh3d": [
           {
            "colorbar": {
             "outlinewidth": 0,
             "ticks": ""
            },
            "type": "mesh3d"
           }
          ],
          "parcoords": [
           {
            "line": {
             "colorbar": {
              "outlinewidth": 0,
              "ticks": ""
             }
            },
            "type": "parcoords"
           }
          ],
          "pie": [
           {
            "automargin": true,
            "type": "pie"
           }
          ],
          "scatter": [
           {
            "marker": {
             "colorbar": {
              "outlinewidth": 0,
              "ticks": ""
             }
            },
            "type": "scatter"
           }
          ],
          "scatter3d": [
           {
            "line": {
             "colorbar": {
              "outlinewidth": 0,
              "ticks": ""
             }
            },
            "marker": {
             "colorbar": {
              "outlinewidth": 0,
              "ticks": ""
             }
            },
            "type": "scatter3d"
           }
          ],
          "scattercarpet": [
           {
            "marker": {
             "colorbar": {
              "outlinewidth": 0,
              "ticks": ""
             }
            },
            "type": "scattercarpet"
           }
          ],
          "scattergeo": [
           {
            "marker": {
             "colorbar": {
              "outlinewidth": 0,
              "ticks": ""
             }
            },
            "type": "scattergeo"
           }
          ],
          "scattergl": [
           {
            "marker": {
             "colorbar": {
              "outlinewidth": 0,
              "ticks": ""
             }
            },
            "type": "scattergl"
           }
          ],
          "scattermapbox": [
           {
            "marker": {
             "colorbar": {
              "outlinewidth": 0,
              "ticks": ""
             }
            },
            "type": "scattermapbox"
           }
          ],
          "scatterpolar": [
           {
            "marker": {
             "colorbar": {
              "outlinewidth": 0,
              "ticks": ""
             }
            },
            "type": "scatterpolar"
           }
          ],
          "scatterpolargl": [
           {
            "marker": {
             "colorbar": {
              "outlinewidth": 0,
              "ticks": ""
             }
            },
            "type": "scatterpolargl"
           }
          ],
          "scatterternary": [
           {
            "marker": {
             "colorbar": {
              "outlinewidth": 0,
              "ticks": ""
             }
            },
            "type": "scatterternary"
           }
          ],
          "surface": [
           {
            "colorbar": {
             "outlinewidth": 0,
             "ticks": ""
            },
            "colorscale": [
             [
              0,
              "#0d0887"
             ],
             [
              0.1111111111111111,
              "#46039f"
             ],
             [
              0.2222222222222222,
              "#7201a8"
             ],
             [
              0.3333333333333333,
              "#9c179e"
             ],
             [
              0.4444444444444444,
              "#bd3786"
             ],
             [
              0.5555555555555556,
              "#d8576b"
             ],
             [
              0.6666666666666666,
              "#ed7953"
             ],
             [
              0.7777777777777778,
              "#fb9f3a"
             ],
             [
              0.8888888888888888,
              "#fdca26"
             ],
             [
              1,
              "#f0f921"
             ]
            ],
            "type": "surface"
           }
          ],
          "table": [
           {
            "cells": {
             "fill": {
              "color": "#EBF0F8"
             },
             "line": {
              "color": "white"
             }
            },
            "header": {
             "fill": {
              "color": "#C8D4E3"
             },
             "line": {
              "color": "white"
             }
            },
            "type": "table"
           }
          ]
         },
         "layout": {
          "annotationdefaults": {
           "arrowcolor": "#2a3f5f",
           "arrowhead": 0,
           "arrowwidth": 1
          },
          "coloraxis": {
           "colorbar": {
            "outlinewidth": 0,
            "ticks": ""
           }
          },
          "colorscale": {
           "diverging": [
            [
             0,
             "#8e0152"
            ],
            [
             0.1,
             "#c51b7d"
            ],
            [
             0.2,
             "#de77ae"
            ],
            [
             0.3,
             "#f1b6da"
            ],
            [
             0.4,
             "#fde0ef"
            ],
            [
             0.5,
             "#f7f7f7"
            ],
            [
             0.6,
             "#e6f5d0"
            ],
            [
             0.7,
             "#b8e186"
            ],
            [
             0.8,
             "#7fbc41"
            ],
            [
             0.9,
             "#4d9221"
            ],
            [
             1,
             "#276419"
            ]
           ],
           "sequential": [
            [
             0,
             "#0d0887"
            ],
            [
             0.1111111111111111,
             "#46039f"
            ],
            [
             0.2222222222222222,
             "#7201a8"
            ],
            [
             0.3333333333333333,
             "#9c179e"
            ],
            [
             0.4444444444444444,
             "#bd3786"
            ],
            [
             0.5555555555555556,
             "#d8576b"
            ],
            [
             0.6666666666666666,
             "#ed7953"
            ],
            [
             0.7777777777777778,
             "#fb9f3a"
            ],
            [
             0.8888888888888888,
             "#fdca26"
            ],
            [
             1,
             "#f0f921"
            ]
           ],
           "sequentialminus": [
            [
             0,
             "#0d0887"
            ],
            [
             0.1111111111111111,
             "#46039f"
            ],
            [
             0.2222222222222222,
             "#7201a8"
            ],
            [
             0.3333333333333333,
             "#9c179e"
            ],
            [
             0.4444444444444444,
             "#bd3786"
            ],
            [
             0.5555555555555556,
             "#d8576b"
            ],
            [
             0.6666666666666666,
             "#ed7953"
            ],
            [
             0.7777777777777778,
             "#fb9f3a"
            ],
            [
             0.8888888888888888,
             "#fdca26"
            ],
            [
             1,
             "#f0f921"
            ]
           ]
          },
          "colorway": [
           "#636efa",
           "#EF553B",
           "#00cc96",
           "#ab63fa",
           "#FFA15A",
           "#19d3f3",
           "#FF6692",
           "#B6E880",
           "#FF97FF",
           "#FECB52"
          ],
          "font": {
           "color": "#2a3f5f"
          },
          "geo": {
           "bgcolor": "white",
           "lakecolor": "white",
           "landcolor": "#E5ECF6",
           "showlakes": true,
           "showland": true,
           "subunitcolor": "white"
          },
          "hoverlabel": {
           "align": "left"
          },
          "hovermode": "closest",
          "mapbox": {
           "style": "light"
          },
          "paper_bgcolor": "white",
          "plot_bgcolor": "#E5ECF6",
          "polar": {
           "angularaxis": {
            "gridcolor": "white",
            "linecolor": "white",
            "ticks": ""
           },
           "bgcolor": "#E5ECF6",
           "radialaxis": {
            "gridcolor": "white",
            "linecolor": "white",
            "ticks": ""
           }
          },
          "scene": {
           "xaxis": {
            "backgroundcolor": "#E5ECF6",
            "gridcolor": "white",
            "gridwidth": 2,
            "linecolor": "white",
            "showbackground": true,
            "ticks": "",
            "zerolinecolor": "white"
           },
           "yaxis": {
            "backgroundcolor": "#E5ECF6",
            "gridcolor": "white",
            "gridwidth": 2,
            "linecolor": "white",
            "showbackground": true,
            "ticks": "",
            "zerolinecolor": "white"
           },
           "zaxis": {
            "backgroundcolor": "#E5ECF6",
            "gridcolor": "white",
            "gridwidth": 2,
            "linecolor": "white",
            "showbackground": true,
            "ticks": "",
            "zerolinecolor": "white"
           }
          },
          "shapedefaults": {
           "line": {
            "color": "#2a3f5f"
           }
          },
          "ternary": {
           "aaxis": {
            "gridcolor": "white",
            "linecolor": "white",
            "ticks": ""
           },
           "baxis": {
            "gridcolor": "white",
            "linecolor": "white",
            "ticks": ""
           },
           "bgcolor": "#E5ECF6",
           "caxis": {
            "gridcolor": "white",
            "linecolor": "white",
            "ticks": ""
           }
          },
          "title": {
           "x": 0.05
          },
          "xaxis": {
           "automargin": true,
           "gridcolor": "white",
           "linecolor": "white",
           "ticks": "",
           "title": {
            "standoff": 15
           },
           "zerolinecolor": "white",
           "zerolinewidth": 2
          },
          "yaxis": {
           "automargin": true,
           "gridcolor": "white",
           "linecolor": "white",
           "ticks": "",
           "title": {
            "standoff": 15
           },
           "zerolinecolor": "white",
           "zerolinewidth": 2
          }
         }
        },
        "title": {
         "text": "2020 Police Brutality: 282 Incidents <br>Data from 2020-05-26 to 2020-06-07"
        },
        "xaxis": {
         "tickangle": -45
        }
       }
      },
      "text/html": [
       "<div>\n",
       "        \n",
       "        \n",
       "            <div id=\"0ec1e687-0d9a-4e18-9e15-9d281a566ff5\" class=\"plotly-graph-div\" style=\"height:525px; width:100%;\"></div>\n",
       "            <script type=\"text/javascript\">\n",
       "                require([\"plotly\"], function(Plotly) {\n",
       "                    window.PLOTLYENV=window.PLOTLYENV || {};\n",
       "                    \n",
       "                if (document.getElementById(\"0ec1e687-0d9a-4e18-9e15-9d281a566ff5\")) {\n",
       "                    Plotly.newPlot(\n",
       "                        '0ec1e687-0d9a-4e18-9e15-9d281a566ff5',\n",
       "                        [{\"customdata\": [\"2020-06-01\", \"2020-05-31\", \"2020-05-30\", \"2020-05-30\", \"2020-05-30\", \"2020-06-01\", \"2020-06-02\", \"2020-06-01\", \"2020-06-03\", \"2020-06-01\", \"2020-05-30\", \"2020-05-31\", \"2020-05-31\", \"2020-05-30\", \"2020-05-30\", \"2020-05-30\", \"2020-05-30\", \"2020-05-31\", \"2020-05-31\", \"2020-05-31\", \"2020-05-31\", \"2020-05-31\", \"2020-05-31\", \"2020-05-31\", \"2020-05-31\", \"2020-05-31\", \"2020-06-01\", \"2020-06-01\", \"2020-06-02\", \"2020-06-02\", \"2020-06-02\", \"2020-06-03\", \"2020-06-05\", \"2020-05-30\", \"2020-05-31\", \"2020-06-02\", \"2020-05-31\", \"2020-06-01\", \"2020-06-01\", \"2020-05-31\", \"2020-06-04\", \"2020-05-29\", \"2020-05-29\", \"2020-05-29\", \"2020-05-31\", \"2020-06-01\", \"2020-05-31\", \"2020-05-31\", \"2020-06-01\", \"2020-06-02\", \"2020-05-30\", \"2020-05-31\", \"2020-05-31\", \"2020-05-31\", \"2020-06-01\", \"2020-06-01\", \"2020-06-02\", \"2020-05-30\", \"2020-06-02\", \"2020-05-29\", \"2020-05-30\", \"2020-06-01\", \"2020-06-05\", \"2020-06-03\", \"2020-05-29\", \"2020-05-31\", \"2020-06-01\", \"2020-06-03\", \"2020-05-31\", \"2020-05-31\", \"2020-05-30\", \"2020-05-30\", \"\", \"2020-05-31\", \"2020-06-01\", \"2020-06-01\", \"2020-06-01\", \"2020-06-01\", \"2020-06-03\", \"\", \"2020-06-01\", \"2020-06-01\", \"2020-06-04\", \"2020-05-31\", \"2020-05-29\", \"2020-05-29\", \"2020-05-29\", \"2020-05-30\", \"2020-05-30\", \"2020-05-30\", \"2020-05-30\", \"2020-05-30\", \"2020-05-31\", \"2020-05-31\", \"2020-05-31\", \"2020-05-31\", \"2020-05-31\", \"2020-05-31\", \"2020-05-31\", \"2020-06-01\", \"2020-06-02\", \"2020-06-02\", \"2020-06-02\", \"2020-06-03\", \"2020-06-04\", \"2020-06-04\", \"2020-06-05\", \"2020-06-06\", \"2020-05-29\", \"2020-05-29\", \"2020-05-30\", \"2020-05-30\", \"2020-05-30\", \"2020-05-30\", \"2020-05-31\", \"2020-06-01\", \"2020-06-02\", \"2020-05-31\", \"\", \"2020-05-31\", \"2020-06-03\", \"2020-05-30\", \"2020-05-31\", \"2020-05-31\", \"2020-05-31\", \"2020-05-31\", \"2020-05-31\", \"2020-05-31\", \"2020-05-31\", \"2020-06-01\", \"2020-06-01\", \"2020-06-02\", \"2020-06-06\", \"2020-06-06\", \"2020-06-07\", \"2020-06-07\", \"2020-05-30\", \"2020-05-30\", \"2020-05-31\", \"2020-05-31\", \"2020-06-01\", \"2020-06-01\", \"2020-06-03\", \"2020-05-31\", \"2020-06-03\", \"2020-05-29\", \"2020-05-30\", \"2020-05-30\", \"2020-05-31\", \"2020-05-30\", \"2020-05-31\", \"2020-05-31\", \"2020-05-31\", \"2020-06-02\", \"\", \"2020-06-04\", \"2020-06-03\", \"2020-05-31\", \"2020-06-02\", \"2020-05-26\", \"2020-05-30\", \"2020-05-30\", \"2020-05-30\", \"2020-05-30\", \"2020-05-30\", \"2020-05-30\", \"2020-05-30\", \"2020-05-30\", \"2020-05-31\", \"2020-05-31\", \"2020-05-31\", \"2020-05-31\", \"2020-05-31\", \"2020-05-31\", \"2020-05-31\", \"2020-05-31\", \"2020-05-31\", \"2020-05-31\", \"2020-05-31\", \"2020-05-31\", \"2020-06-02\", \"2020-06-02\", \"2020-06-02\", \"2020-05-29\", \"2020-05-30\", \"2020-05-30\", \"2020-05-31\", \"2020-05-29\", \"2020-06-01\", \"2020-05-31\", \"2020-06-01\", \"2020-05-30\", \"2020-05-30\", \"2020-06-02\", \"2020-06-02\", \"2020-06-02\", \"2020-06-06\", \"2020-05-31\", \"\", \"2020-06-01\", \"2020-06-01\", \"2020-06-01\", \"2020-06-01\", \"2020-05-30\", \"2020-05-31\", \"2020-05-30\", \"2020-05-29\", \"2020-05-30\", \"2020-05-30\", \"2020-05-30\", \"2020-05-31\", \"2020-05-31\", \"2020-05-31\", \"2020-05-31\", \"2020-05-31\", \"2020-05-31\", \"2020-05-31\", \"2020-05-31\", \"2020-06-01\", \"2020-06-02\", \"2020-05-31\", \"2020-05-30\", \"2020-05-30\", \"2020-05-30\", \"2020-05-30\", \"2020-05-31\", \"2020-05-31\", \"2020-06-02\", \"2020-06-02\", \"2020-05-29\", \"2020-05-29\", \"2020-05-30\", \"2020-05-31\", \"2020-05-30\", \"2020-06-02\", \"2020-05-31\", \"2020-05-31\", \"2020-06-01\", \"2020-05-31\", \"2020-06-01\", \"2020-06-01\", \"\", \"2020-06-01\", \"\", \"\", \"2020-06-01\", \"\", \"2020-06-01\", \"2020-06-01\", \"2020-06-03\", \"2020-06-03\", \"2020-06-03\", \"2020-06-05\", \"2020-05-30\", \"2020-05-31\", \"2020-05-31\", \"2020-05-31\", \"2020-05-31\", \"2020-06-01\", \"2020-06-01\", \"2020-05-31\", \"2020-06-01\", \"2020-05-28\", \"2020-05-29\", \"2020-05-29\", \"2020-05-29\", \"2020-05-29\", \"2020-05-30\", \"2020-05-30\", \"2020-05-30\", \"2020-05-31\", \"2020-05-31\", \"2020-05-31\", \"2020-06-02\", \"2020-06-04\", \"\", \"2020-05-31\", \"2020-06-01\", \"2020-06-01\", \"2020-06-04\", \"2020-06-05\", \"2020-06-03\"], \"hovertemplate\": \"City: %{text}<br>Incident Description: %{hovertext}<br>Date of Incident: %{customdata}<extra></extra>\", \"hovertext\": [\"Law enforcement gas a crowd chanting \\u201cwe want peace\\u201d right after exiting the building.\", \"Peaceful protestors kneeling are shot with an explosive projectile.\", \"Police shove an old man with a cane to the ground\", \"Police shoot man on the ground in the spine with a beanbag point-blank\", \"Police shoot tear gas canister at man from close range, striking him in the chest\", \"Police push and tackle man that is being vocal\", \"Law enforcement gas teenagers at a park\", \"Police beat person on the ground\", \"Law enforcement concealing badge\", \"Law enforcement arrest people walking, you can hear on the radio \\u201cYou should not be driving past anybody, stop and take somebody into custody\\u201d.\", \"Law enforcement shoot and throw tear gas at protesters\", \"Police shoot woman in the face\", \"Reporter shot in neck by rubber bullet\", \"LAPD officer beats multiple protesters that are filming them during a protest in Beverley Hills\", \"Los Angeles law enforcement beat protesters with batons\", \"ABC7 reporters are hit by tear gas\", \"Police beat protesters with batons\", \"Police fire rubber/pepper bullets at innocent protestors\", \"Police officer puts his knee on a protesters neck, is pulled off\", \"Police shoot rubber bullets at protesters\", \"Man shot in the head with deterrent rounds, is sent to hospital\", \"Los Angeles law enforcement beat protesters for no apparent reason.\", \"Police tackle and arrest protester, indiscriminately beat others with batons and shoot them with less lethals\", \"LAPD SUV drives into protesters, speeds away\", \"Los Angeles law enforcement shot at a man on his own balcony\", \"Police shoot crowd of unarmed protestors with rubber bullets\", \"Police strike protestors with batons\", \"Police shoot rubber bullets at two peaceful protestors\", \"LAPD drive by shootings at fleeing people announcing \\\"This is an illegal assembly\\\"\", \"Photograph documents aftermath of LAPD firing non-lethal round at face of homeless man in wheelchair\", \"Police shoot unarmed man in a wheelchair in the face\", \"Police zip tie protesters and lock them inside cages\", \"Police fire projectiles at protesters and discharge teargas\", \"Officer runs down protesters with police cruiser\", \"Oakland law enforcement shoot a reporter\", \"Law enforcement break a car window for no apparent reason\", \"Police shoot protester in the head\", \"Sacramento law enforcement shoot shoot protesters and then announce their assembly unlawful\", \"Police choke man and push woman filming event to the ground\", \"Police kettle and fire on fleeing protestors\", \"Police abduct woman in unmarked van\", \"Police shoot a projectile at a protestor\", \"Officer puts knee on neck of protester\", \"Police fire on community activist\", \"Police open fire on protestors\", \"Law enforcement fire on crowd with their arms up chanting\", \"San Francisco law enforcement shove man off the sidewalk onto the ground\", \"Police fire pepper bullets into apartment\", \"Police fatally shoot unarmed 22 year old\", \"Armored law enforcement vehicle threatens protestors\", \"Police pepper spray and arrest protestor holding sign\", \"Police pepper spray protestors walking away and later arrest one of them\", \"Police tear gas a park\", \"Kansas City police attempt to arrest a man leading the protest then spray the crowd\", \"Police arrest man for speaking and teargas nearby protestors\", \"Police pull away protestor and pepper sprays others\", \"Florissant officer hits man with unmarked police vehicle\", \"Officer tackles and arrests person walking home from protest\", \"Police use or threaten to use pepper-spray in an elevator on apartment residents trying to go home\", \"Police repeatedly shoot tear gas into crowd, even after crowd has dispersed\", \"Police truck shoots at cars, hitting mother and breaking her finger\", \"Police pepper spray Des Moines Register reporter even as she repeatedly announced herself as press\", \"Armed police raid gay bar helping wounded Black Lives Matter protesters on the first day of Pride Month\", \"Police shoot tear gas at peaceful protestors who have their hands up\", \"Police arrest a man for speaking at them from a distance.\", \"Police shove and drag man through the street\", \"Police charge into peaceful crowd shouting \\\"grab anybody\\\"\", \"Officer forces women into car and wrestles with another\", \"Police tackle and detain 6 protestors\", \"Police officer maces woman and kicks her in the head\", \"Police pepperspray protesters helping someone stand up\", \"Police beat down man\", \"Police drag cooperating man from car and punch him in the face\", \"Philadelphia cops beat man and forcefully put his fingers on their baton.\", \"Philadelphia Police Trap Protesters on Highway, Then Tear Gas Them and Shoot Rubber Bullets\", \"Police officer pepper-sprays three people on their knees\", \"Police shove protestors and strike man across the face with a baton\", \"Officer attacks woman for no apparent reason\", \"Police kneel on man who says \\\"I can't breathe\\\", officer yells profanities back\", \"Officer pepper-sprays a woman who is on her knees with her hands up\", \"Police fire tear gas and rubber bullets on peaceful assembly\", \"Police tackle man giving interview\", \"Police shove elderly man, causing him to fall and hit the back of his head\", \"Police shoot at people filming\", \"Police shove woman to the ground, inducing a seizure\", \"Police drive by man and hit him with car door\", \"Member of the New York State Assembly pepper-sprayed\", \"Police officer throws man against police car\", \"NYPD beat people with batons\", \"Cop shoves a guy into a metal fence\", \"Cop shoving a person to the ground towards metal trash bins\", \"Huffpost reporter is arrested by NYPD\", \"Police pull off protesters mask to pepper spray him\", \"NYPD rams protesters\", \"Police assault protesters\", \"State senator pepper sprayed\", \"Protesters with hands up assaulted by police\", \"Police injure journalist\", \"Officers beat man until his face and belongings are bloody\", \"Officer threatens protestors with what appears to be a handgun\", \"Police officer body slams protestor\", \"Police beat protesters leaving Stonewall Inn solidarity protest\", \"Officers beat man with batons\", \"Man walking his bike beaten by officers with batons\", \"NYPD Officers hit and knock down a protestor and a journalist\", \"Officers arrest cyclists; a man who questions police is clubbed in the neck\", \"NYPD pushes crowd into tight space and attacks several with batons\", \"Multiple police officers tackle cyclist protester one officer punches head of protester\", \"Officer charges through other officers to attack a protestor who is backing away\", \"Riot police charge peaceful protestors\", \"Police shove and scream at men walking down the street\", \"Police pepperspray reporter holding up media badge\", \"Police shoot rubber bullets at reporters\", \"Woman is charged by police and thrown to the ground\", \"Police spray unarmed man with pepperspray and shoot him in the face with a teargas canister\", \"Police fire tear gas at prone protesters\", \"Police fire tear gas at peaceful protesters\", \"Compilation of incidents\", \"Officer beats a protestor while pinning him on the ground\", \"Police swarm a woman without provocation\", \"Police shove a protesting woman down a set of concrete steps.\", \"Officer pins protestor by pushing his knee into his neck\", \"Police beat unarmed man on the ground\", \"Police indiscriminately pepper spray peaceful protesters\", \"Police pepper spray young child\", \"Police throw tear gas at peaceful protestors\", \"Police officer pulls protestor to the ground unprovoked\", \"Law enforcement officer punches pinned protestor\", \"Law enforcement officers throw flashbangs into peaceful crowd\", \"Police initiate violence\", \"Police strike active newscrew with flashbang\", \"Officers deploy flashbangs and pepper spray peaceful protesters\", \"Officer chokes and places knee on neck of woman\", \"Police kettle protesters to force them to disperse through tear-gas\", \"Police use tear gas on protestors\", \"Woman hit with police projectile resumes breathing after CPR, delivered to hospital\", \"Police shoot rubber bullets at reporter\", \"Young woman shot in the head by a rubber bullet\", \"Police smashing water bottles\", \"Police shoot at cars in traffic from overpass\", \"Louisville police swarm and beat a man screaming on the ground\", \"Restaurant owner shot and killed\", \"Protestors in St. Matthews shot with pepper rounds\", \"Police Individually Target Peaceful Protestor and Arrest Him\", \"Police Assault Suspect on Ground During Arrest\", \"Officer body slams woman onto ground\", \"Officer shoves a woman with his bike\", \"Cops pull people out of their car, taze them\", \"Police shove and shoot protesters\", \"Man tased in back for speaking up after man on ground is punched in face by cop\", \"Police Shove a woman down to her knees\", \"Law enforcement shoot a woman in the head\", \"Man tackled to ground after speaking to police\", \"Police use excessive force during an arrest\", \"Police fire on protesters outside city hall\", \"One woman is pinned to the ground and another is pepper-sprayed\", \"Police using selective enforcement on black individuals\", \"Officer pepper-sprays protestor walking backwards with arms raised\", \"Police restrain man using knee on neck\", \"Police shoot flashbang grenades into crowd\", \"Police storm gas station, attacking reporters who show press badges\", \"Continuation of gas station event; Awaijane family told to go inside gas station, they comply and seek shelter inside, police then shoot rubber bullets and tear gas inside the building\", \"Police drive by spraying\", \"CNN Reporter arrested\", \"WCCO photojournalist arrested\", \"CNN crew shot at with rubber bullets and tear gas while live on air\", \"Police shoot rubber bullets and teargas at an MSNBC reporter\", \"Swiss journalists shot at with rubber bullets by police\", \"Police shoot at a woman on her porch\", \"LA-Times employee recounts getting shot\", \"Reporter shares his experience\", \"Police slashes tires\", \"CBS news crew shot with rubber bullets\", \"Police throw flashbangs at reporter\", \"Police blind a reporter with rubber bullet\", \"Police shoot Reuters reporters with rubber bullets\", \"Police shoot at, threaten to arrest reporter\", \"Police stop SUV to driveby pepperspray protesters through window\", \"Patient care assistant reports being shot with rubber bullets while treating injured protestors\", \"Journalists pepper sprayed and hit with flashbangs and batons\", \"Law enforcement close on protesters from both sides with pepper bullets, tear gas, and flashbangs\", \"Police surround approved medical station and destroy supplies\", \"Police shoot to intimidate owner of LGBTQ bar\", \"Police pepper spray protesters attempting to record them\", \"Police tear gas peaceful protesters\", \"Toddler teargassed by police\", \"Protester hit in the face with a gas cannister\", \"Police confiscate medical supplies from medical station\", \"Police beat woman with batons and shoot pepper balls, shove another to the ground\", \"Officer drops tear gas into peaceful protest without warning\", \"Officer shoots projectile from moving vehicle\", \"Police violently break up peaceful protest\", \"Officer pepper-sprays protestor\", \"Police appear to tear-gas a homeless camp\", \"Police deploy shoot teargas/flashbang grenade into a crowd\", \"Police launch teargas into a crowd\", \"Officer attacks photographer with baton and pepper sprays him\", \"Police beat an innocent man crossing the street with batons.\", \"A cop takes someone's protest sign and destroys it.\", \"Worcester police officers cover badge numbers during protest\", \"Riot police throw protestor to the ground\", \"Riot police fire on protestors without provocation\", \"Numerous eyewitness report being tackled by police officers\", \"Police disperse peaceful protest with tear gas, flash bangs and pepper bullets\", \"First hand account of police violently dispersing crowds\", \"Officer swings baton at protesters, beats one who is trying to keep crowd back\", \"Cop hits a protestor in the face, escalates to whole crowd being pepper sprayed\", \"Congresswoman Joyce Beatty reportedly sprayed with \\\"mace or pepper spray\\\"\", \"Peaceful protester sprayed in the face with mace\", \"Police pepperspray protesters for chanting\", \"Police pepper-spray a medic\", \"Police mace an innocent woman\", \"Police intimidating campus protesters by driving car towards them\", \"Police pepper spray two kneeling protesters\", \"Police pepper spray African-American photographer\", \"Police pepperspray sitting protesters\", \"Woman holding a sign is shot with rubber bullets\", \"Protestors kept in a courtyard with no bathroom breaks, water, or food, for nine hours\", \"Police push and pepper spray reporters from The Lantern newspaper\", \"Officer refuses to give diabetic arrestee her insulin back\", \"Police critically injure 20 year old black protester during protests against police violence\", \"Police assault protesters\", \"Police shoot non-violent protestor in the head\", \"Police use tear gas & rubber bullets on protesters\", \"Police open fire on crowd with rubber bullets\", \"Police open fire on crowd after a protester throws water on them\", \"Police spray a man in the face while he stands still ~3 feet away from them.\", \"Police fire upon protesters seeking medical help\", \"Police officer tackles and knees man on the ground\", \"Police trample protester with horse\", \"Officers shove a woman to the pavement\", \"Police shoot unarmed woman in the face with a rubber bullet\", \"Police use flashbangs and tear gas on protestors\", \"Man shot in the eye\", \"Police maneuver protestors onto bridge and fire tear gas and rubber bullets\", \"Police shoot man filming them with what were allegedly rubber bullets\", \"Police Mace, shoot pepper bullets at protesters sitting on the ground\", \"Peaceful protestors arrested for breaking curfew\", \"Riot Police rams shield into BBC cameraman\", \"Australian news crew and protestors attacked by police\", \"Protestors are quickly and violently pushed out of Lafayette Square\", \"Officer fires tear gas cannister at protestor's head\", \"Police violence outside the White House\", \"Law enforcement officers fire rubber bullets into crowd, pepper-spray kneeling protestor and CNN crew\", \"Law enforcement officers throw stinger grenades at peaceful protestors\", \"Man who sheltered protestors discusses law enforcement officers shooting tear gas into his house\", \"Police charge peaceful crowd, beat them with shields\", \"Police fire into crowd hitting one protester\", \"Protester falls and is stepped on\", \"Police officer pepper sprays protestors for no reason\", \"Police tear gas reporters\", \"Police preemptively tear gas peaceful protestors\", \"Police fire rubber bullets on dispersing crowd\", \"Protester shot in head with rubber bullet\", \"Police harass and assault John Cusack\", \"Police pull black women out of the car and throw them to the ground\", \"Police pepperspray reporter for recording\", \"Cops hit Chicago Police Board President\", \"Video showing CPD officer punching protester in Uptown under investigation\", \"CPD chase down protester on TV\", \"Officers grabs someone by the neck then more cops pile on\", \"Multiple cops pin man to ground while repeatedly punching him\", \"Reporter shot with multiple pepper balls\", \"Police pepperspray people trying to record\", \"Denver law enforcement shoot at reporters\", \"Denver SWAT shoot at woman trying to stop armored car\", \"Police discharge tear gas into group of protesters\", \"Police throw reporter into fire\", \"Police tear gas and shoot protestors\", \"Denver law enforcement shoot at reporter standing on the sidewalk\", \"Police fire pepper balls at car with pregnant woman\", \"Police officer fires at protestor while driving away\", \"Police pepper sprays peaceful protestor and fires tear gas on crowd\", \"Police shoot protester from behind with tear gas canister\", \"Police tackle group of peaceful protesters\", \"Officers pepper-spray Virginia state delegate peacefully protesting\", \"Officer sprays a man watching from his balcony\", \"Tear gas fired at peaceful protest\", \"Officer spits on detained protestor\", \"Law enforcement officer fires tear gas at vehicle only to discover it's a police vehicle\", \"Officer repeatedly uses stun gun on suspect who said he couldn't breathe\", \"Police throw tear-gas at protestors on a bridge.\"], \"marker\": {\"color\": \"black\"}, \"name\": \"Police Brutality Incident Captured on Video\", \"showlegend\": true, \"text\": [\"Bentonville\", \"Little Rock\", \"Salt Lake City\", \"Salt Lake City\", \"Salt Lake City\", \"Salt Lake City\", \"Clayton\", \"Compton\", \"Costa Mesa\", \"Hollywood\", \"La Mesa\", \"La Mesa\", \"Long Beach\", \"Los Angeles\", \"Los Angeles\", \"Los Angeles\", \"Los Angeles\", \"Los Angeles\", \"Los Angeles\", \"Los Angeles\", \"Los Angeles\", \"Los Angeles\", \"Los Angeles\", \"Los Angeles\", \"Los Angeles\", \"Los Angeles\", \"Los Angeles\", \"Los Angeles\", \"Los Angeles\", \"Los Angeles\", \"Los Angeles\", \"Los Angeles\", \"Los Angeles\", \"Oakland\", \"Oakland\", \"Riverside\", \"Sacramento\", \"Sacramento\", \"Sacramento\", \"San Diego\", \"San Diego\", \"San Jose\", \"San Jose\", \"San Jose\", \"Santa Ana\", \"San Luis Obispo\", \"San Francisco\", \"Santa Monica\", \"Vallejo\", \"Walnut Creek\", \"Kansas City\", \"Kansas City\", \"Kansas City\", \"Kansas City\", \"Kansas City\", \"Kansas City\", \"St. Louis\", \"Phoenix\", \"Des Moines\", \"Des Moines\", \"Des Moines\", \"Des Moines\", \"Des Moines\", \"Iowa City\", \"Las Vegas\", \"Las Vegas\", \"Las Vegas\", \"Waterbury\", \"Waterbury\", \"Erie\", \"Harrisburg\", \"Philadelphia\", \"Philadelphia\", \"Philadelphia\", \"Philadelphia\", \"Philadelphia\", \"Philadelphia\", \"Philadelphia\", \"Philadelphia\", \"Pittsburgh\", \"Pittsburgh\", \"Buffalo\", \"Buffalo\", \"Rochester\", \"New York City\", \"New York City\", \"New York City\", \"New York City\", \"New York City\", \"New York City\", \"New York City\", \"New York City\", \"New York City\", \"New York City\", \"New York City\", \"New York City\", \"New York City\", \"New York City\", \"New York City\", \"New York City\", \"New York City\", \"New York City\", \"New York City\", \"New York City\", \"New York City\", \"New York City\", \"New York City\", \"New York City\", \"Detroit\", \"Detroit\", \"Detroit\", \"Detroit\", \"Detroit\", \"Detroit\", \"Grand Rapids\", \"Kalamazoo\", \"Kalamazoo\", \"\", \"\", \"Memphis\", \"St. Johnsbury\", \"Seattle\", \"Seattle\", \"Seattle\", \"Seattle\", \"Seattle\", \"Seattle\", \"Seattle\", \"Seattle\", \"Seattle\", \"Seattle\", \"Seattle\", \"Seattle\", \"Seattle\", \"Seattle\", \"Seattle\", \"Louisville\", \"Louisville\", \"Louisville\", \"Louisville\", \"Louisville\", \"Louisville\", \"Louisville\", \"Charleston\", \"Location Unknown\", \"Atlanta\", \"Atlanta\", \"Atlanta\", \"Atlanta\", \"Lawrenceville\", \"Fort Lauderdale\", \"Fort Lauderdale\", \"Miami\", \"Orlando\", \"Orlando\", \"Tampa\", \"Fargo\", \"Madison\", \"Milwaukee\", \"Minneapolis\", \"Minneapolis\", \"Minneapolis\", \"Minneapolis\", \"Minneapolis\", \"Minneapolis\", \"Minneapolis\", \"Minneapolis\", \"Minneapolis\", \"Minneapolis\", \"Minneapolis\", \"Minneapolis\", \"Minneapolis\", \"Minneapolis\", \"Minneapolis\", \"Minneapolis\", \"Minneapolis\", \"Minneapolis\", \"Minneapolis\", \"Minneapolis\", \"Minneapolis\", \"Charlotte\", \"Asheville\", \"Raleigh\", \"Fort Wayne\", \"Fort Wayne\", \"Fort Wayne\", \"Fort Wayne\", \"Indianapolis\", \"Indianapolis\", \"Lafayette\", \"Eugene\", \"Portland\", \"Portland\", \"Portland\", \"Portland\", \"Portland\", \"Portland\", \"Boston\", \"Boston\", \"Worcester\", \"Worcester\", \"Worcester\", \"Worcester\", \"Cincinnati\", \"Cincinnati\", \"Cleveland\", \"Columbus\", \"Columbus\", \"Columbus\", \"Columbus\", \"Columbus\", \"Columbus\", \"Columbus\", \"Columbus\", \"Columbus\", \"Columbus\", \"Columbus\", \"Columbus\", \"Columbus\", \"Columbus\", \"Austin\", \"Austin\", \"Austin\", \"Austin\", \"Austin\", \"Austin\", \"Austin\", \"Austin\", \"Baytown\", \"Houston\", \"Houston\", \"Dallas\", \"Dallas\", \"Dallas\", \"Dallas\", \"San Antonio\", \"Omaha\", \"Omaha\", \"DC\", \"DC\", \"DC\", \"DC\", \"DC\", \"DC\", \"DC\", \"DC\", \"DC\", \"DC\", \"Huntsville\", \"Huntsville\", \"Huntsville\", \"Huntsville\", \"Huntsville\", \"Chicago\", \"Chicago\", \"Chicago\", \"Chicago\", \"Chicago\", \"Chicago\", \"Chicago\", \"Joliet\", \"Colorado Springs\", \"Denver\", \"Denver\", \"Denver\", \"Denver\", \"Denver\", \"Denver\", \"Denver\", \"Denver\", \"Denver\", \"Denver\", \"Denver\", \"Denver\", \"Denver\", \"Manassas\", \"Richmond\", \"Richmond\", \"Richmond\", \"Richmond\", \"Fairfax\", \"New Orleans\"], \"type\": \"bar\", \"width\": 0.8, \"x\": [\"Arkansas\", \"Arkansas\", \"Utah\", \"Utah\", \"Utah\", \"Utah\", \"California\", \"California\", \"California\", \"California\", \"California\", \"California\", \"California\", \"California\", \"California\", \"California\", \"California\", \"California\", \"California\", \"California\", \"California\", \"California\", \"California\", \"California\", \"California\", \"California\", \"California\", \"California\", \"California\", \"California\", \"California\", \"California\", \"California\", \"California\", \"California\", \"California\", \"California\", \"California\", \"California\", \"California\", \"California\", \"California\", \"California\", \"California\", \"California\", \"California\", \"California\", \"California\", \"California\", \"California\", \"Missouri\", \"Missouri\", \"Missouri\", \"Missouri\", \"Missouri\", \"Missouri\", \"Missouri\", \"Arizona\", \"Iowa\", \"Iowa\", \"Iowa\", \"Iowa\", \"Iowa\", \"Iowa\", \"Nevada\", \"Nevada\", \"Nevada\", \"Connecticut\", \"Connecticut\", \"Pennsylvania\", \"Pennsylvania\", \"Pennsylvania\", \"Pennsylvania\", \"Pennsylvania\", \"Pennsylvania\", \"Pennsylvania\", \"Pennsylvania\", \"Pennsylvania\", \"Pennsylvania\", \"Pennsylvania\", \"Pennsylvania\", \"New York\", \"New York\", \"New York\", \"New York\", \"New York\", \"New York\", \"New York\", \"New York\", \"New York\", \"New York\", \"New York\", \"New York\", \"New York\", \"New York\", \"New York\", \"New York\", \"New York\", \"New York\", \"New York\", \"New York\", \"New York\", \"New York\", \"New York\", \"New York\", \"New York\", \"New York\", \"New York\", \"Michigan\", \"Michigan\", \"Michigan\", \"Michigan\", \"Michigan\", \"Michigan\", \"Michigan\", \"Michigan\", \"Michigan\", \"Unknown Location\", \"Unknown Location\", \"Tennessee\", \"Vermont\", \"Washington\", \"Washington\", \"Washington\", \"Washington\", \"Washington\", \"Washington\", \"Washington\", \"Washington\", \"Washington\", \"Washington\", \"Washington\", \"Washington\", \"Washington\", \"Washington\", \"Washington\", \"Kentucky\", \"Kentucky\", \"Kentucky\", \"Kentucky\", \"Kentucky\", \"Kentucky\", \"Kentucky\", \"South Carolina\", \"South Carolina\", \"Georgia\", \"Georgia\", \"Georgia\", \"Georgia\", \"Georgia\", \"Florida\", \"Florida\", \"Florida\", \"Florida\", \"Florida\", \"Florida\", \"North Dakota\", \"Wisconsin\", \"Wisconsin\", \"Minnesota\", \"Minnesota\", \"Minnesota\", \"Minnesota\", \"Minnesota\", \"Minnesota\", \"Minnesota\", \"Minnesota\", \"Minnesota\", \"Minnesota\", \"Minnesota\", \"Minnesota\", \"Minnesota\", \"Minnesota\", \"Minnesota\", \"Minnesota\", \"Minnesota\", \"Minnesota\", \"Minnesota\", \"Minnesota\", \"Minnesota\", \"North Carolina\", \"North Carolina\", \"North Carolina\", \"Indiana\", \"Indiana\", \"Indiana\", \"Indiana\", \"Indiana\", \"Indiana\", \"Indiana\", \"Oregon\", \"Oregon\", \"Oregon\", \"Oregon\", \"Oregon\", \"Oregon\", \"Oregon\", \"Massachusetts\", \"Massachusetts\", \"Massachusetts\", \"Massachusetts\", \"Massachusetts\", \"Massachusetts\", \"Ohio\", \"Ohio\", \"Ohio\", \"Ohio\", \"Ohio\", \"Ohio\", \"Ohio\", \"Ohio\", \"Ohio\", \"Ohio\", \"Ohio\", \"Ohio\", \"Ohio\", \"Ohio\", \"Ohio\", \"Ohio\", \"Ohio\", \"Texas\", \"Texas\", \"Texas\", \"Texas\", \"Texas\", \"Texas\", \"Texas\", \"Texas\", \"Texas\", \"Texas\", \"Texas\", \"Texas\", \"Texas\", \"Texas\", \"Texas\", \"Texas\", \"Nebraska\", \"Nebraska\", \"Washington DC\", \"Washington DC\", \"Washington DC\", \"Washington DC\", \"Washington DC\", \"Washington DC\", \"Washington DC\", \"Washington DC\", \"Washington DC\", \"Washington DC\", \"Alabama\", \"Alabama\", \"Alabama\", \"Alabama\", \"Alabama\", \"Illinois\", \"Illinois\", \"Illinois\", \"Illinois\", \"Illinois\", \"Illinois\", \"Illinois\", \"Illinois\", \"Colorado\", \"Colorado\", \"Colorado\", \"Colorado\", \"Colorado\", \"Colorado\", \"Colorado\", \"Colorado\", \"Colorado\", \"Colorado\", \"Colorado\", \"Colorado\", \"Colorado\", \"Colorado\", \"Virginia\", \"Virginia\", \"Virginia\", \"Virginia\", \"Virginia\", \"Virginia\", \"Louisiana\"], \"y\": [1, 1, 1, 1, 1, 1, 1, 1, 1, 1, 1, 1, 1, 1, 1, 1, 1, 1, 1, 1, 1, 1, 1, 1, 1, 1, 1, 1, 1, 1, 1, 1, 1, 1, 1, 1, 1, 1, 1, 1, 1, 1, 1, 1, 1, 1, 1, 1, 1, 1, 1, 1, 1, 1, 1, 1, 1, 1, 1, 1, 1, 1, 1, 1, 1, 1, 1, 1, 1, 1, 1, 1, 1, 1, 1, 1, 1, 1, 1, 1, 1, 1, 1, 1, 1, 1, 1, 1, 1, 1, 1, 1, 1, 1, 1, 1, 1, 1, 1, 1, 1, 1, 1, 1, 1, 1, 1, 1, 1, 1, 1, 1, 1, 1, 1, 1, 1, 1, 1, 1, 1, 1, 1, 1, 1, 1, 1, 1, 1, 1, 1, 1, 1, 1, 1, 1, 1, 1, 1, 1, 1, 1, 1, 1, 1, 1, 1, 1, 1, 1, 1, 1, 1, 1, 1, 1, 1, 1, 1, 1, 1, 1, 1, 1, 1, 1, 1, 1, 1, 1, 1, 1, 1, 1, 1, 1, 1, 1, 1, 1, 1, 1, 1, 1, 1, 1, 1, 1, 1, 1, 1, 1, 1, 1, 1, 1, 1, 1, 1, 1, 1, 1, 1, 1, 1, 1, 1, 1, 1, 1, 1, 1, 1, 1, 1, 1, 1, 1, 1, 1, 1, 1, 1, 1, 1, 1, 1, 1, 1, 1, 1, 1, 1, 1, 1, 1, 1, 1, 1, 1, 1, 1, 1, 1, 1, 1, 1, 1, 1, 1, 1, 1, 1, 1, 1, 1, 1, 1, 1, 1, 1, 1, 1, 1, 1, 1, 1, 1, 1, 1, 1, 1, 1, 1, 1, 1, 1, 1, 1, 1, 1, 1]}],\n",
       "                        {\"autosize\": true, \"barmode\": \"group\", \"legend\": {\"orientation\": \"h\", \"x\": 0.875, \"y\": 0.99}, \"template\": {\"data\": {\"bar\": [{\"error_x\": {\"color\": \"#2a3f5f\"}, \"error_y\": {\"color\": \"#2a3f5f\"}, \"marker\": {\"line\": {\"color\": \"#E5ECF6\", \"width\": 0.5}}, \"type\": \"bar\"}], \"barpolar\": [{\"marker\": {\"line\": {\"color\": \"#E5ECF6\", \"width\": 0.5}}, \"type\": \"barpolar\"}], \"carpet\": [{\"aaxis\": {\"endlinecolor\": \"#2a3f5f\", \"gridcolor\": \"white\", \"linecolor\": \"white\", \"minorgridcolor\": \"white\", \"startlinecolor\": \"#2a3f5f\"}, \"baxis\": {\"endlinecolor\": \"#2a3f5f\", \"gridcolor\": \"white\", \"linecolor\": \"white\", \"minorgridcolor\": \"white\", \"startlinecolor\": \"#2a3f5f\"}, \"type\": \"carpet\"}], \"choropleth\": [{\"colorbar\": {\"outlinewidth\": 0, \"ticks\": \"\"}, \"type\": \"choropleth\"}], \"contour\": [{\"colorbar\": {\"outlinewidth\": 0, \"ticks\": \"\"}, \"colorscale\": [[0.0, \"#0d0887\"], [0.1111111111111111, \"#46039f\"], [0.2222222222222222, \"#7201a8\"], [0.3333333333333333, \"#9c179e\"], [0.4444444444444444, \"#bd3786\"], [0.5555555555555556, \"#d8576b\"], [0.6666666666666666, \"#ed7953\"], [0.7777777777777778, \"#fb9f3a\"], [0.8888888888888888, \"#fdca26\"], [1.0, \"#f0f921\"]], \"type\": \"contour\"}], \"contourcarpet\": [{\"colorbar\": {\"outlinewidth\": 0, \"ticks\": \"\"}, \"type\": \"contourcarpet\"}], \"heatmap\": [{\"colorbar\": {\"outlinewidth\": 0, \"ticks\": \"\"}, \"colorscale\": [[0.0, \"#0d0887\"], [0.1111111111111111, \"#46039f\"], [0.2222222222222222, \"#7201a8\"], [0.3333333333333333, \"#9c179e\"], [0.4444444444444444, \"#bd3786\"], [0.5555555555555556, \"#d8576b\"], [0.6666666666666666, \"#ed7953\"], [0.7777777777777778, \"#fb9f3a\"], [0.8888888888888888, \"#fdca26\"], [1.0, \"#f0f921\"]], \"type\": \"heatmap\"}], \"heatmapgl\": [{\"colorbar\": {\"outlinewidth\": 0, \"ticks\": \"\"}, \"colorscale\": [[0.0, \"#0d0887\"], [0.1111111111111111, \"#46039f\"], [0.2222222222222222, \"#7201a8\"], [0.3333333333333333, \"#9c179e\"], [0.4444444444444444, \"#bd3786\"], [0.5555555555555556, \"#d8576b\"], [0.6666666666666666, \"#ed7953\"], [0.7777777777777778, \"#fb9f3a\"], [0.8888888888888888, \"#fdca26\"], [1.0, \"#f0f921\"]], \"type\": \"heatmapgl\"}], \"histogram\": [{\"marker\": {\"colorbar\": {\"outlinewidth\": 0, \"ticks\": \"\"}}, \"type\": \"histogram\"}], \"histogram2d\": [{\"colorbar\": {\"outlinewidth\": 0, \"ticks\": \"\"}, \"colorscale\": [[0.0, \"#0d0887\"], [0.1111111111111111, \"#46039f\"], [0.2222222222222222, \"#7201a8\"], [0.3333333333333333, \"#9c179e\"], [0.4444444444444444, \"#bd3786\"], [0.5555555555555556, \"#d8576b\"], [0.6666666666666666, \"#ed7953\"], [0.7777777777777778, \"#fb9f3a\"], [0.8888888888888888, \"#fdca26\"], [1.0, \"#f0f921\"]], \"type\": \"histogram2d\"}], \"histogram2dcontour\": [{\"colorbar\": {\"outlinewidth\": 0, \"ticks\": \"\"}, \"colorscale\": [[0.0, \"#0d0887\"], [0.1111111111111111, \"#46039f\"], [0.2222222222222222, \"#7201a8\"], [0.3333333333333333, \"#9c179e\"], [0.4444444444444444, \"#bd3786\"], [0.5555555555555556, \"#d8576b\"], [0.6666666666666666, \"#ed7953\"], [0.7777777777777778, \"#fb9f3a\"], [0.8888888888888888, \"#fdca26\"], [1.0, \"#f0f921\"]], \"type\": \"histogram2dcontour\"}], \"mesh3d\": [{\"colorbar\": {\"outlinewidth\": 0, \"ticks\": \"\"}, \"type\": \"mesh3d\"}], \"parcoords\": [{\"line\": {\"colorbar\": {\"outlinewidth\": 0, \"ticks\": \"\"}}, \"type\": \"parcoords\"}], \"pie\": [{\"automargin\": true, \"type\": \"pie\"}], \"scatter\": [{\"marker\": {\"colorbar\": {\"outlinewidth\": 0, \"ticks\": \"\"}}, \"type\": \"scatter\"}], \"scatter3d\": [{\"line\": {\"colorbar\": {\"outlinewidth\": 0, \"ticks\": \"\"}}, \"marker\": {\"colorbar\": {\"outlinewidth\": 0, \"ticks\": \"\"}}, \"type\": \"scatter3d\"}], \"scattercarpet\": [{\"marker\": {\"colorbar\": {\"outlinewidth\": 0, \"ticks\": \"\"}}, \"type\": \"scattercarpet\"}], \"scattergeo\": [{\"marker\": {\"colorbar\": {\"outlinewidth\": 0, \"ticks\": \"\"}}, \"type\": \"scattergeo\"}], \"scattergl\": [{\"marker\": {\"colorbar\": {\"outlinewidth\": 0, \"ticks\": \"\"}}, \"type\": \"scattergl\"}], \"scattermapbox\": [{\"marker\": {\"colorbar\": {\"outlinewidth\": 0, \"ticks\": \"\"}}, \"type\": \"scattermapbox\"}], \"scatterpolar\": [{\"marker\": {\"colorbar\": {\"outlinewidth\": 0, \"ticks\": \"\"}}, \"type\": \"scatterpolar\"}], \"scatterpolargl\": [{\"marker\": {\"colorbar\": {\"outlinewidth\": 0, \"ticks\": \"\"}}, \"type\": \"scatterpolargl\"}], \"scatterternary\": [{\"marker\": {\"colorbar\": {\"outlinewidth\": 0, \"ticks\": \"\"}}, \"type\": \"scatterternary\"}], \"surface\": [{\"colorbar\": {\"outlinewidth\": 0, \"ticks\": \"\"}, \"colorscale\": [[0.0, \"#0d0887\"], [0.1111111111111111, \"#46039f\"], [0.2222222222222222, \"#7201a8\"], [0.3333333333333333, \"#9c179e\"], [0.4444444444444444, \"#bd3786\"], [0.5555555555555556, \"#d8576b\"], [0.6666666666666666, \"#ed7953\"], [0.7777777777777778, \"#fb9f3a\"], [0.8888888888888888, \"#fdca26\"], [1.0, \"#f0f921\"]], \"type\": \"surface\"}], \"table\": [{\"cells\": {\"fill\": {\"color\": \"#EBF0F8\"}, \"line\": {\"color\": \"white\"}}, \"header\": {\"fill\": {\"color\": \"#C8D4E3\"}, \"line\": {\"color\": \"white\"}}, \"type\": \"table\"}]}, \"layout\": {\"annotationdefaults\": {\"arrowcolor\": \"#2a3f5f\", \"arrowhead\": 0, \"arrowwidth\": 1}, \"coloraxis\": {\"colorbar\": {\"outlinewidth\": 0, \"ticks\": \"\"}}, \"colorscale\": {\"diverging\": [[0, \"#8e0152\"], [0.1, \"#c51b7d\"], [0.2, \"#de77ae\"], [0.3, \"#f1b6da\"], [0.4, \"#fde0ef\"], [0.5, \"#f7f7f7\"], [0.6, \"#e6f5d0\"], [0.7, \"#b8e186\"], [0.8, \"#7fbc41\"], [0.9, \"#4d9221\"], [1, \"#276419\"]], \"sequential\": [[0.0, \"#0d0887\"], [0.1111111111111111, \"#46039f\"], [0.2222222222222222, \"#7201a8\"], [0.3333333333333333, \"#9c179e\"], [0.4444444444444444, \"#bd3786\"], [0.5555555555555556, \"#d8576b\"], [0.6666666666666666, \"#ed7953\"], [0.7777777777777778, \"#fb9f3a\"], [0.8888888888888888, \"#fdca26\"], [1.0, \"#f0f921\"]], \"sequentialminus\": [[0.0, \"#0d0887\"], [0.1111111111111111, \"#46039f\"], [0.2222222222222222, \"#7201a8\"], [0.3333333333333333, \"#9c179e\"], [0.4444444444444444, \"#bd3786\"], [0.5555555555555556, \"#d8576b\"], [0.6666666666666666, \"#ed7953\"], [0.7777777777777778, \"#fb9f3a\"], [0.8888888888888888, \"#fdca26\"], [1.0, \"#f0f921\"]]}, \"colorway\": [\"#636efa\", \"#EF553B\", \"#00cc96\", \"#ab63fa\", \"#FFA15A\", \"#19d3f3\", \"#FF6692\", \"#B6E880\", \"#FF97FF\", \"#FECB52\"], \"font\": {\"color\": \"#2a3f5f\"}, \"geo\": {\"bgcolor\": \"white\", \"lakecolor\": \"white\", \"landcolor\": \"#E5ECF6\", \"showlakes\": true, \"showland\": true, \"subunitcolor\": \"white\"}, \"hoverlabel\": {\"align\": \"left\"}, \"hovermode\": \"closest\", \"mapbox\": {\"style\": \"light\"}, \"paper_bgcolor\": \"white\", \"plot_bgcolor\": \"#E5ECF6\", \"polar\": {\"angularaxis\": {\"gridcolor\": \"white\", \"linecolor\": \"white\", \"ticks\": \"\"}, \"bgcolor\": \"#E5ECF6\", \"radialaxis\": {\"gridcolor\": \"white\", \"linecolor\": \"white\", \"ticks\": \"\"}}, \"scene\": {\"xaxis\": {\"backgroundcolor\": \"#E5ECF6\", \"gridcolor\": \"white\", \"gridwidth\": 2, \"linecolor\": \"white\", \"showbackground\": true, \"ticks\": \"\", \"zerolinecolor\": \"white\"}, \"yaxis\": {\"backgroundcolor\": \"#E5ECF6\", \"gridcolor\": \"white\", \"gridwidth\": 2, \"linecolor\": \"white\", \"showbackground\": true, \"ticks\": \"\", \"zerolinecolor\": \"white\"}, \"zaxis\": {\"backgroundcolor\": \"#E5ECF6\", \"gridcolor\": \"white\", \"gridwidth\": 2, \"linecolor\": \"white\", \"showbackground\": true, \"ticks\": \"\", \"zerolinecolor\": \"white\"}}, \"shapedefaults\": {\"line\": {\"color\": \"#2a3f5f\"}}, \"ternary\": {\"aaxis\": {\"gridcolor\": \"white\", \"linecolor\": \"white\", \"ticks\": \"\"}, \"baxis\": {\"gridcolor\": \"white\", \"linecolor\": \"white\", \"ticks\": \"\"}, \"bgcolor\": \"#E5ECF6\", \"caxis\": {\"gridcolor\": \"white\", \"linecolor\": \"white\", \"ticks\": \"\"}}, \"title\": {\"x\": 0.05}, \"xaxis\": {\"automargin\": true, \"gridcolor\": \"white\", \"linecolor\": \"white\", \"ticks\": \"\", \"title\": {\"standoff\": 15}, \"zerolinecolor\": \"white\", \"zerolinewidth\": 2}, \"yaxis\": {\"automargin\": true, \"gridcolor\": \"white\", \"linecolor\": \"white\", \"ticks\": \"\", \"title\": {\"standoff\": 15}, \"zerolinecolor\": \"white\", \"zerolinewidth\": 2}}}, \"title\": {\"text\": \"2020 Police Brutality: 282 Incidents <br>Data from 2020-05-26 to 2020-06-07\"}, \"xaxis\": {\"tickangle\": -45}},\n",
       "                        {\"responsive\": true}\n",
       "                    ).then(function(){\n",
       "                            \n",
       "var gd = document.getElementById('0ec1e687-0d9a-4e18-9e15-9d281a566ff5');\n",
       "var x = new MutationObserver(function (mutations, observer) {{\n",
       "        var display = window.getComputedStyle(gd).display;\n",
       "        if (!display || display === 'none') {{\n",
       "            console.log([gd, 'removed!']);\n",
       "            Plotly.purge(gd);\n",
       "            observer.disconnect();\n",
       "        }}\n",
       "}});\n",
       "\n",
       "// Listen for the removal of the full notebook cells\n",
       "var notebookContainer = gd.closest('#notebook-container');\n",
       "if (notebookContainer) {{\n",
       "    x.observe(notebookContainer, {childList: true});\n",
       "}}\n",
       "\n",
       "// Listen for the clearing of the current output cell\n",
       "var outputEl = gd.closest('.output');\n",
       "if (outputEl) {{\n",
       "    x.observe(outputEl, {childList: true});\n",
       "}}\n",
       "\n",
       "                        })\n",
       "                };\n",
       "                });\n",
       "            </script>\n",
       "        </div>"
      ]
     },
     "metadata": {},
     "output_type": "display_data"
    }
   ],
   "source": [
    "by_date = pd_consolidated.groupby('date')\n",
    "by_date_sum_incidents = by_date.sum()\n",
    "first_date = by_date_sum_incidents.index[1]\n",
    "last_date = by_date_sum_incidents.index[len(by_date_sum_incidents.index)-1]\n",
    "\n",
    "fig = go.Figure(data=[go.Bar(\n",
    "    x=pd_consolidated['state'],\n",
    "    y=pd_consolidated['incident_value'],\n",
    "    marker_color= 'black',\n",
    "    name = 'Police Brutality Incident Captured on Video',\n",
    "    text = pd_consolidated['city'],\n",
    "    hovertext = pd_consolidated['name'],\n",
    "    customdata = pd_consolidated['date'],\n",
    "    hovertemplate = \"City: %{text}<br>Incident Description: %{hovertext}<br>Date of Incident: %{customdata}<extra></extra>\",\n",
    "    width = .8,\n",
    "    showlegend = True,\n",
    ")])\n",
    "\n",
    "fig.update_layout(title_text = '2020 Police Brutality: {} Incidents <br>Data from {} to {}'.format(len(pb_data_raw),first_date,last_date),\n",
    "                  barmode='group',\n",
    "                  xaxis_tickangle=-45,\n",
    "                  autosize=True,\n",
    "#                   width=1500,\n",
    "#                   height=1200,\n",
    "                  legend_orientation=\"h\",\n",
    "                  legend=dict(x=.875, y=0.99)\n",
    "                 )\n",
    "\n",
    "fig.write_html(r\"C:\\Users\\cdwhi\\Documents\\Python\\My_Code\\Police_Brutality_2020\\PB_BarChart.html\")\n",
    "fig.show()"
   ]
  },
  {
   "cell_type": "code",
   "execution_count": null,
   "metadata": {},
   "outputs": [],
   "source": []
  },
  {
   "cell_type": "code",
   "execution_count": null,
   "metadata": {},
   "outputs": [],
   "source": []
  },
  {
   "cell_type": "code",
   "execution_count": null,
   "metadata": {},
   "outputs": [],
   "source": []
  },
  {
   "cell_type": "code",
   "execution_count": null,
   "metadata": {},
   "outputs": [],
   "source": []
  },
  {
   "cell_type": "code",
   "execution_count": null,
   "metadata": {},
   "outputs": [],
   "source": []
  },
  {
   "cell_type": "code",
   "execution_count": null,
   "metadata": {},
   "outputs": [],
   "source": []
  },
  {
   "cell_type": "code",
   "execution_count": null,
   "metadata": {},
   "outputs": [],
   "source": []
  }
 ],
 "metadata": {
  "kernelspec": {
   "display_name": "Python 3",
   "language": "python",
   "name": "python3"
  },
  "language_info": {
   "codemirror_mode": {
    "name": "ipython",
    "version": 3
   },
   "file_extension": ".py",
   "mimetype": "text/x-python",
   "name": "python",
   "nbconvert_exporter": "python",
   "pygments_lexer": "ipython3",
   "version": "3.7.1"
  }
 },
 "nbformat": 4,
 "nbformat_minor": 2
}
